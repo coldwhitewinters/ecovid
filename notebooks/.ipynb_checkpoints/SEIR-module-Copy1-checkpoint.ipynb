{
 "cells": [
  {
   "cell_type": "code",
   "execution_count": 12,
   "metadata": {},
   "outputs": [],
   "source": [
    "%load_ext autoreload\n",
    "%autoreload 2"
   ]
  },
  {
   "cell_type": "code",
   "execution_count": 13,
   "metadata": {},
   "outputs": [],
   "source": [
    "import sys\n",
    "sys.path.append(\"../scripts\")"
   ]
  },
  {
   "cell_type": "code",
   "execution_count": 15,
   "metadata": {},
   "outputs": [
    {
     "name": "stdout",
     "output_type": "stream",
     "text": [
      "Overwriting ../scripts/SEIR.py\n"
     ]
    }
   ],
   "source": [
    "%%writefile \"../scripts/SEIR.py\"\n",
    "\n",
    "import numpy as np\n",
    "import pandas as pd\n",
    "import matplotlib.pyplot as plt\n",
    "from scipy.integrate import odeint\n",
    "from scipy.optimize import minimize\n",
    "\n",
    "class CovidCalc:\n",
    "    def __init__(self, \n",
    "                 population=7e6, initial_infected=1, initial_exposed=0,\n",
    "                 R0=2.2, Rt=0.73, incubation_time=5.2, infectious_time=2.9, \n",
    "                 recovery_time=28.6, hospital_rate=0.2, mortality_rate=0.02,  \n",
    "                 time_to_hospitalization=5, time_to_death=32, intervention_time=100):\n",
    "        self.population = population\n",
    "        self.R0 = R0\n",
    "        self.Rt = Rt\n",
    "        self.incubation_time = incubation_time\n",
    "        self.infectious_time = infectious_time\n",
    "        self.recovery_time = recovery_time\n",
    "        self.initial_infected = initial_infected\n",
    "        self.initial_exposed = initial_exposed\n",
    "        self.mortality_rate = mortality_rate\n",
    "        self.hospital_rate = hospital_rate\n",
    "        self.time_to_hospitalization = time_to_hospitalization\n",
    "        self.time_to_death = time_to_death\n",
    "        self.intervention_time = intervention_time\n",
    "    \n",
    "    def _deqn(self, y, t, beta, t_inc, t_inf, \n",
    "              t_recovery, t_to_hosp, t_to_death,\n",
    "              r_hosp, r_death):\n",
    "        S, E, I, R, H, Ht, D = y\n",
    "        dS = -beta * S * I\n",
    "        dE = beta * S * I - 1/t_inc * E\n",
    "        dI = 1/t_inc * E - 1/t_inf * I\n",
    "        dR = (1 - r_hosp)/t_inf * I + 1/t_recovery * H\n",
    "        dH = (r_hosp - r_death)/t_inf * I - 1/t_recovery * H\n",
    "        dHt = r_death/t_inf * I - 1/(t_to_death - t_to_hosp) * Ht\n",
    "        dD = 1/(t_to_death - t_to_hosp) * Ht\n",
    "        return dS, dE, dI, dR, dH, dHt, dD\n",
    "\n",
    "    def simulate(self, until, step=1):\n",
    "        y0 = (self.population, self.initial_exposed, self.initial_infected, 0, 0, 0, 0) \n",
    "        t_before = np.arange(0, int(self.intervention_time), step)\n",
    "        parameters = (self.R0/(self.infectious_time * self.population), \n",
    "                      self.incubation_time,\n",
    "                      self.infectious_time,\n",
    "                      self.recovery_time,\n",
    "                      self.time_to_hospitalization,\n",
    "                      self.time_to_death,\n",
    "                      self.hospital_rate,\n",
    "                      self.mortality_rate,\n",
    "                     )\n",
    "        before_intervention = odeint(self._deqn, y0, t_before, args=parameters)\n",
    "        \n",
    "        yt = before_intervention[-1]\n",
    "        t_after = np.arange(int(self.intervention_time-1), until, step)\n",
    "        parameters = (self.Rt/(self.infectious_time * self.population), \n",
    "                      self.incubation_time,\n",
    "                      self.infectious_time,\n",
    "                      self.recovery_time,\n",
    "                      self.time_to_hospitalization,\n",
    "                      self.time_to_death,\n",
    "                      self.hospital_rate,\n",
    "                      self.mortality_rate,\n",
    "                     )\n",
    "        after_intervention = odeint(self._deqn, yt, t_after, args=tuple(parameters))[1:]\n",
    "        \n",
    "        res = np.concatenate((before_intervention, after_intervention))\n",
    "        columns_names = [\"Susceptible\", \"Exposed\", \"Infectious\", \n",
    "                         \"Recovered\", \"Hosp_Moderate\", \"Hosp_Terminal\", \"Dead\"]\n",
    "        result = pd.DataFrame(res, columns=columns_names)\n",
    "        result[\"Hosp_Total\"] = result[\"Hosp_Moderate\"] + result[\"Hosp_Terminal\"]\n",
    "        return result\n",
    "\n",
    "    def _opt_target(self, theta, obs, weights, estimate):\n",
    "        for k, param in enumerate(estimate):\n",
    "            if param in vars(self):\n",
    "                vars(self)[param] = theta[k]\n",
    "        y = self.simulate(until=len(obs))\n",
    "        wsqd = weights * (y - obs)**2\n",
    "        cost = wsqd.sum().sum()\n",
    "        return cost\n",
    "    \n",
    "    def fit(self, obs, estimate, weights=None, set_initial=True, method=\"nelder-mead\", options=None):\n",
    "        obs = obs.reset_index()[[\"I\", \"R\", \"D\"]]\n",
    "        self.initial_infected, self.initial_recovered, self.initial_dead = obs.head(1).to_numpy().flatten()\n",
    "        theta_0 = np.zeros(len(estimate))\n",
    "        for k, param in enumerate(estimate):\n",
    "            if param not in vars(self):\n",
    "                raise Exception(\"Parameter not in model\")\n",
    "            theta_0[k] = vars(self)[param]\n",
    "        if weights is None:\n",
    "            weights = 1/obs.size * np.ones(obs.shape)\n",
    "        args = (obs, weights, estimate)\n",
    "        result = minimize(self._opt_target, theta_0, args=args, method=method, options=options)\n",
    "        return result\n",
    "\n",
    "    \n",
    "class SIR:\n",
    "    def __init__(self, population=44e6, transmission_rate=0.1, recovery_rate=0.01, mortality_rate=0.005,\n",
    "                 initial_infected=1, initial_recovered=0, initial_dead=0):\n",
    "        self.population = population\n",
    "        self.transmission_rate = transmission_rate\n",
    "        self.recovery_rate = recovery_rate\n",
    "        self.mortality_rate = mortality_rate\n",
    "        self.initial_infected = initial_infected\n",
    "        self.initial_recovered = initial_recovered\n",
    "        self.initial_dead = initial_dead\n",
    "    \n",
    "    def _deqn(self, y, t, N, beta, gamma, mu):\n",
    "        I, R, D = y\n",
    "        S = N - I - R - D\n",
    "        dS = -beta * S * I / N\n",
    "        dI = beta * S * I / N - (gamma + mu) * I\n",
    "        dR = gamma * I\n",
    "        dD = mu * I\n",
    "        return dI, dR, dD\n",
    "\n",
    "    def simulate(self, until, step=1):\n",
    "        y0 = (self.initial_infected, \n",
    "              self.initial_recovered, \n",
    "              self.initial_dead)\n",
    "        t0 = np.arange(0, until, step)\n",
    "        parameters = (self.population,\n",
    "                      self.transmission_rate,\n",
    "                      self.recovery_rate,\n",
    "                      self.mortality_rate,\n",
    "                     )\n",
    "        result = odeint(self._deqn, y0, t0, args=parameters)\n",
    "        result_df = pd.DataFrame(result, columns=[\"I\", \"R\", \"D\"])\n",
    "        return result_df\n",
    "    \n",
    "    def _opt_target(self, theta, obs, weights, estimate):\n",
    "        for k, param in enumerate(estimate):\n",
    "            if param in vars(self):\n",
    "                vars(self)[param] = theta[k]\n",
    "        y = self.simulate(until=len(obs))\n",
    "        wsqd = weights * (y - obs)**2\n",
    "        cost = wsqd.sum().sum()\n",
    "        return cost\n",
    "    \n",
    "    def fit(self, obs, estimate, weights=None, set_initial=True, method=\"nelder-mead\", options=None):\n",
    "        obs = obs.reset_index()[[\"I\", \"R\", \"D\"]]\n",
    "        self.initial_infected, self.initial_recovered, self.initial_dead = obs.head(1).to_numpy().flatten()\n",
    "        theta_0 = np.zeros(len(estimate))\n",
    "        for k, param in enumerate(estimate):\n",
    "            if param not in vars(self):\n",
    "                raise Exception(\"Parameter not in model\")\n",
    "            theta_0[k] = vars(self)[param]\n",
    "        if weights is None:\n",
    "            weights = 1/obs.size * np.ones(obs.shape)\n",
    "        args = (obs, weights, estimate)\n",
    "        result = minimize(self._opt_target, theta_0, args=args, method=method, options=options)\n",
    "        return result\n",
    "\n",
    "    \n",
    "class SEIR:\n",
    "    def __init__(self, population=44e6, \n",
    "                 transmission_rate=0.1, progression_rate=0.05, recovery_rate=0.01, mortality_rate=0.005, \n",
    "                 initial_exposed=0, initial_infected=1, initial_recovered=0, initial_dead=0):\n",
    "        self.population = population\n",
    "        self.transmission_rate = transmission_rate\n",
    "        self.progression_rate = progression_rate\n",
    "        self.recovery_rate = recovery_rate\n",
    "        self.mortality_rate = mortality_rate\n",
    "        self.initial_exposed = initial_exposed\n",
    "        self.initial_infected = initial_infected\n",
    "        self.initial_recovered = initial_recovered\n",
    "        self.initial_dead = initial_dead\n",
    "    \n",
    "    def _deqn(self, y, t, N, beta, gamma, delta, mu):\n",
    "        E, I, R, D = y\n",
    "        S = N - E - I - R - D\n",
    "        dS = -beta * I * S / N\n",
    "        dE = beta * I * S / N - delta * E\n",
    "        dI = delta * E - (gamma + mu) * I\n",
    "        dR = gamma * I\n",
    "        dD = mu * I\n",
    "        return dE, dI, dR, dD\n",
    "\n",
    "    def simulate(self, until, step=1):\n",
    "        y0 = (self.initial_exposed, \n",
    "              self.initial_infected, \n",
    "              self.initial_recovered, \n",
    "              self.initial_dead)\n",
    "        t0 = np.arange(0, until, step)\n",
    "        parameters = (self.population,\n",
    "                      self.transmission_rate,\n",
    "                      self.recovery_rate,\n",
    "                      self.progression_rate,\n",
    "                      self.mortality_rate,\n",
    "                     )\n",
    "        result = odeint(self._deqn, y0, t0, args=parameters)\n",
    "        self.result = pd.DataFrame(result, columns=[\"E\", \"I\", \"R\", \"D\"])\n",
    "        return self.result\n",
    "    \n",
    "    def _opt_target(self, theta, obs, weights, estimate):\n",
    "        for k, param in enumerate(estimate):\n",
    "            if param in vars(self):\n",
    "                vars(self)[param] = theta[k]\n",
    "        y = self.simulate(until=len(obs))[obs.columns]\n",
    "        wsqd = weights * (y - obs)**2\n",
    "        cost = wsqd.sum().sum()\n",
    "        return cost\n",
    "    \n",
    "    def fit(self, obs, estimate, weights=None, initial_exposed=None, method=\"nelder-mead\", options=None):\n",
    "        obs = obs.reset_index()[[\"I\", \"R\", \"D\"]]\n",
    "        self.initial_infected, self.initial_recovered, self.initial_dead = obs.head(1).to_numpy().flatten()\n",
    "        if initial_exposed is not None:\n",
    "            self.initial_exposed = initial_exposed\n",
    "        theta_0 = np.zeros(len(estimate))\n",
    "        for k, param in enumerate(estimate):\n",
    "            if param not in vars(self):\n",
    "                raise Exception(\"Parameter not in model\")\n",
    "            theta_0[k] = vars(self)[param]\n",
    "        if weights is None:\n",
    "            weights = 1/obs.size * np.ones(obs.shape)\n",
    "        args = (obs, weights, estimate)\n",
    "        summary = minimize(self._opt_target, theta_0, args=args, method=method, options=options)\n",
    "        return summary"
   ]
  },
  {
   "cell_type": "code",
   "execution_count": 4,
   "metadata": {},
   "outputs": [],
   "source": [
    "import numpy as np\n",
    "import pandas as pd\n",
    "import matplotlib.pyplot as plt\n",
    "from SEIR import CovidCalc"
   ]
  },
  {
   "cell_type": "code",
   "execution_count": 5,
   "metadata": {},
   "outputs": [],
   "source": [
    "plt.rcParams[\"figure.figsize\"] = (14,6)"
   ]
  },
  {
   "cell_type": "code",
   "execution_count": 6,
   "metadata": {},
   "outputs": [],
   "source": [
    "model = CovidCalc()"
   ]
  },
  {
   "cell_type": "code",
   "execution_count": 7,
   "metadata": {},
   "outputs": [],
   "source": [
    "res = model.simulate(until=200)"
   ]
  },
  {
   "cell_type": "code",
   "execution_count": 8,
   "metadata": {},
   "outputs": [
    {
     "data": {
      "image/png": "[encoded data removed]",
      "text/plain": [
       "<Figure size 1008x432 with 1 Axes>"
      ]
     },
     "metadata": {
      "needs_background": "light"
     },
     "output_type": "display_data"
    }
   ],
   "source": [
    "res.loc[res.index%3 == 0, [\"Dead\", \"Hosp_Total\", \"Infectious\", \"Exposed\"]].plot(kind=\"bar\", stacked=True);"
   ]
  },
  {
   "cell_type": "code",
   "execution_count": 9,
   "metadata": {},
   "outputs": [
    {
     "data": {
      "text/plain": [
       "<matplotlib.axes._subplots.AxesSubplot at 0x265e12a4f08>"
      ]
     },
     "execution_count": 9,
     "metadata": {},
     "output_type": "execute_result"
    },
    {
     "data": {
      "image/png": "[encoded data removed]",
      "text/plain": [
       "<Figure size 1008x432 with 1 Axes>"
      ]
     },
     "metadata": {
      "needs_background": "light"
     },
     "output_type": "display_data"
    }
   ],
   "source": [
    "res[[\"Dead\", \"Hosp_Total\", \"Infectious\", \"Exposed\"]].plot()"
   ]
  },
  {
   "cell_type": "code",
   "execution_count": null,
   "metadata": {},
   "outputs": [],
   "source": []
  },
  {
   "cell_type": "code",
   "execution_count": null,
   "metadata": {},
   "outputs": [],
   "source": []
  },
  {
   "cell_type": "code",
   "execution_count": null,
   "metadata": {},
   "outputs": [],
   "source": []
  },
  {
   "cell_type": "code",
   "execution_count": null,
   "metadata": {},
   "outputs": [],
   "source": []
  },
  {
   "cell_type": "code",
   "execution_count": null,
   "metadata": {},
   "outputs": [],
   "source": []
  },
  {
   "cell_type": "code",
   "execution_count": null,
   "metadata": {},
   "outputs": [],
   "source": []
  },
  {
   "cell_type": "code",
   "execution_count": null,
   "metadata": {},
   "outputs": [],
   "source": []
  }
 ],
 "metadata": {
  "kernelspec": {
   "display_name": "Python 3",
   "language": "python",
   "name": "python3"
  },
  "language_info": {
   "codemirror_mode": {
    "name": "ipython",
    "version": 3
   },
   "file_extension": ".py",
   "mimetype": "text/x-python",
   "name": "python",
   "nbconvert_exporter": "python",
   "pygments_lexer": "ipython3",
   "version": "3.7.7"
  }
 },
 "nbformat": 4,
 "nbformat_minor": 4
}
