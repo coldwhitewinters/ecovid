{
 "cells": [
  {
   "cell_type": "code",
   "execution_count": 1,
   "metadata": {},
   "outputs": [],
   "source": [
    "%load_ext autoreload\n",
    "%autoreload 2"
   ]
  },
  {
   "cell_type": "code",
   "execution_count": 2,
   "metadata": {},
   "outputs": [],
   "source": [
    "import sys\n",
    "sys.path.append(\"../scripts\")"
   ]
  },
  {
   "cell_type": "code",
   "execution_count": 19,
   "metadata": {},
   "outputs": [
    {
     "name": "stdout",
     "output_type": "stream",
     "text": [
      "Overwriting ../scripts/SIRD2.py\n"
     ]
    }
   ],
   "source": [
    "%%writefile \"../scripts/SIRD2.py\"\n",
    "\n",
    "import numpy as np\n",
    "import pandas as pd\n",
    "import matplotlib.pyplot as plt\n",
    "from scipy.integrate import odeint\n",
    "from scipy.optimize import minimize\n",
    "\n",
    "class SIRD2:\n",
    "    def __init__(self, population=44e6, beta=0.05, recovery_rate=0.033, incubation_rate=0, mortality_rate=0.036, initial_exposed=0):\n",
    "        self.population = population\n",
    "        self.beta = beta\n",
    "        self.recovery_rate = recovery_rate\n",
    "        self.incubation_rate = incubation_rate\n",
    "        self.mortality_rate = mortality_rate\n",
    "        self.initial_exposed = initial_exposed\n",
    "    \n",
    "    def _deqn(self, y, t, N, beta, gamma, delta, mu):\n",
    "        E, I, R, D = y\n",
    "        S = N - E - I - R - D\n",
    "        dS = -beta * I * S / N\n",
    "        dE = beta * I * S / N - delta * E\n",
    "        dI = delta * E - (gamma + mu) * I\n",
    "        dR = gamma * I\n",
    "        dD = mu * I\n",
    "        return dE, dI, dR, dD\n",
    "\n",
    "    def simulate(self, y0, until, step=1):\n",
    "        t0 = np.arange(0, until, step)\n",
    "        parameters = (self.population,\n",
    "                      self.beta,\n",
    "                      self.recovery_rate,\n",
    "                      self.incubation_rate,\n",
    "                      self.mortality_rate,\n",
    "                     )\n",
    "        result = odeint(self._deqn, y0, t0, args=parameters)\n",
    "        self.result = pd.DataFrame(result, columns=[\"E\", \"I\", \"R\", \"D\"])\n",
    "        return self.result\n",
    "    \n",
    "    def _opt_target(self, theta, obs, weights, estimate):\n",
    "        for k, param in enumerate(estimate):\n",
    "            if param in vars(self):\n",
    "                vars(self)[param] = theta[k]\n",
    "        y0 = np.concatenate(([self.initial_exposed], obs.head(1).to_numpy().flatten()))\n",
    "        y = self.simulate(y0=y0, until=len(obs))[obs.columns]\n",
    "        wsqd = weights * (y - obs)**2\n",
    "        cost = wsqd.sum().sum()\n",
    "        return cost\n",
    "    \n",
    "    def fit(self, obs, estimate, weights=None, method=\"nelder-mead\", options=None):\n",
    "        obs = obs.reset_index()[[\"I\", \"R\", \"D\"]]\n",
    "        theta_0 = np.zeros(len(estimate))\n",
    "        for k, param in enumerate(estimate):\n",
    "            if param not in vars(self):\n",
    "                raise Exception(\"Parameter not in model\")\n",
    "            theta_0[k] = vars(self)[param]\n",
    "        if weights is None:\n",
    "            weights = 1/obs.size * np.ones(obs.shape)\n",
    "        args = (obs, weights, estimate)\n",
    "        summary = minimize(self._opt_target, theta_0, args=args, method=method, options=options)\n",
    "        return summary"
   ]
  },
  {
   "cell_type": "code",
   "execution_count": 9,
   "metadata": {},
   "outputs": [],
   "source": [
    "import numpy as np\n",
    "import pandas as pd\n",
    "import matplotlib.pyplot as plt\n",
    "from scipy.optimize import minimize"
   ]
  },
  {
   "cell_type": "code",
   "execution_count": null,
   "metadata": {},
   "outputs": [],
   "source": []
  },
  {
   "cell_type": "code",
   "execution_count": null,
   "metadata": {},
   "outputs": [],
   "source": []
  },
  {
   "cell_type": "code",
   "execution_count": null,
   "metadata": {},
   "outputs": [],
   "source": []
  }
 ],
 "metadata": {
  "kernelspec": {
   "display_name": "Python 3",
   "language": "python",
   "name": "python3"
  },
  "language_info": {
   "codemirror_mode": {
    "name": "ipython",
    "version": 3
   },
   "file_extension": ".py",
   "mimetype": "text/x-python",
   "name": "python",
   "nbconvert_exporter": "python",
   "pygments_lexer": "ipython3",
   "version": "3.7.7"
  }
 },
 "nbformat": 4,
 "nbformat_minor": 4
}
