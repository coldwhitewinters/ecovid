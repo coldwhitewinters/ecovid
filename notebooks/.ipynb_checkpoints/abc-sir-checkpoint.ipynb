{
 "cells": [
  {
   "cell_type": "code",
   "execution_count": 1,
   "metadata": {},
   "outputs": [],
   "source": [
    "import numpy as np\n",
    "import pandas as pd\n",
    "import matplotlib.pyplot as plt\n",
    "from scipy.integrate import odeint, solve_ivp\n",
    "from scipy.optimize import minimize\n",
    "import pymc3 as pm\n",
    "from pymc3.ode import DifferentialEquation\n",
    "import arviz as az"
   ]
  },
  {
   "cell_type": "code",
   "execution_count": 2,
   "metadata": {},
   "outputs": [
    {
     "data": {
      "text/html": [
       "<div>\n",
       "<style scoped>\n",
       "    .dataframe tbody tr th:only-of-type {\n",
       "        vertical-align: middle;\n",
       "    }\n",
       "\n",
       "    .dataframe tbody tr th {\n",
       "        vertical-align: top;\n",
       "    }\n",
       "\n",
       "    .dataframe thead th {\n",
       "        text-align: right;\n",
       "    }\n",
       "</style>\n",
       "<table border=\"1\" class=\"dataframe\">\n",
       "  <thead>\n",
       "    <tr style=\"text-align: right;\">\n",
       "      <th></th>\n",
       "      <th>date</th>\n",
       "      <th>I</th>\n",
       "      <th>R</th>\n",
       "      <th>D</th>\n",
       "      <th>Total_Confirmed</th>\n",
       "    </tr>\n",
       "  </thead>\n",
       "  <tbody>\n",
       "    <tr>\n",
       "      <th>0</th>\n",
       "      <td>2020-03-03</td>\n",
       "      <td>1</td>\n",
       "      <td>0</td>\n",
       "      <td>0</td>\n",
       "      <td>1</td>\n",
       "    </tr>\n",
       "    <tr>\n",
       "      <th>1</th>\n",
       "      <td>2020-03-04</td>\n",
       "      <td>1</td>\n",
       "      <td>0</td>\n",
       "      <td>0</td>\n",
       "      <td>1</td>\n",
       "    </tr>\n",
       "    <tr>\n",
       "      <th>2</th>\n",
       "      <td>2020-03-05</td>\n",
       "      <td>1</td>\n",
       "      <td>0</td>\n",
       "      <td>0</td>\n",
       "      <td>1</td>\n",
       "    </tr>\n",
       "    <tr>\n",
       "      <th>3</th>\n",
       "      <td>2020-03-06</td>\n",
       "      <td>2</td>\n",
       "      <td>0</td>\n",
       "      <td>0</td>\n",
       "      <td>2</td>\n",
       "    </tr>\n",
       "    <tr>\n",
       "      <th>4</th>\n",
       "      <td>2020-03-07</td>\n",
       "      <td>8</td>\n",
       "      <td>0</td>\n",
       "      <td>0</td>\n",
       "      <td>8</td>\n",
       "    </tr>\n",
       "    <tr>\n",
       "      <th>...</th>\n",
       "      <td>...</td>\n",
       "      <td>...</td>\n",
       "      <td>...</td>\n",
       "      <td>...</td>\n",
       "      <td>...</td>\n",
       "    </tr>\n",
       "    <tr>\n",
       "      <th>94</th>\n",
       "      <td>2020-06-05</td>\n",
       "      <td>14317</td>\n",
       "      <td>6088</td>\n",
       "      <td>632</td>\n",
       "      <td>21037</td>\n",
       "    </tr>\n",
       "    <tr>\n",
       "      <th>95</th>\n",
       "      <td>2020-06-06</td>\n",
       "      <td>15192</td>\n",
       "      <td>6180</td>\n",
       "      <td>648</td>\n",
       "      <td>22020</td>\n",
       "    </tr>\n",
       "    <tr>\n",
       "      <th>96</th>\n",
       "      <td>2020-06-07</td>\n",
       "      <td>15221</td>\n",
       "      <td>6909</td>\n",
       "      <td>664</td>\n",
       "      <td>22794</td>\n",
       "    </tr>\n",
       "    <tr>\n",
       "      <th>97</th>\n",
       "      <td>2020-06-08</td>\n",
       "      <td>15622</td>\n",
       "      <td>7305</td>\n",
       "      <td>693</td>\n",
       "      <td>23620</td>\n",
       "    </tr>\n",
       "    <tr>\n",
       "      <th>98</th>\n",
       "      <td>2020-06-09</td>\n",
       "      <td>16476</td>\n",
       "      <td>7568</td>\n",
       "      <td>717</td>\n",
       "      <td>24761</td>\n",
       "    </tr>\n",
       "  </tbody>\n",
       "</table>\n",
       "<p>99 rows × 5 columns</p>\n",
       "</div>"
      ],
      "text/plain": [
       "          date      I     R    D  Total_Confirmed\n",
       "0   2020-03-03      1     0    0                1\n",
       "1   2020-03-04      1     0    0                1\n",
       "2   2020-03-05      1     0    0                1\n",
       "3   2020-03-06      2     0    0                2\n",
       "4   2020-03-07      8     0    0                8\n",
       "..         ...    ...   ...  ...              ...\n",
       "94  2020-06-05  14317  6088  632            21037\n",
       "95  2020-06-06  15192  6180  648            22020\n",
       "96  2020-06-07  15221  6909  664            22794\n",
       "97  2020-06-08  15622  7305  693            23620\n",
       "98  2020-06-09  16476  7568  717            24761\n",
       "\n",
       "[99 rows x 5 columns]"
      ]
     },
     "execution_count": 2,
     "metadata": {},
     "output_type": "execute_result"
    }
   ],
   "source": [
    "data = pd.read_csv(\"../data/obs_arg.csv\")\n",
    "data"
   ]
  },
  {
   "cell_type": "code",
   "execution_count": 3,
   "metadata": {},
   "outputs": [],
   "source": [
    "data = data.drop(columns=\"Total_Confirmed\")\n",
    "data = data.set_index(\"date\")"
   ]
  },
  {
   "cell_type": "code",
   "execution_count": 4,
   "metadata": {},
   "outputs": [],
   "source": [
    "train = data[\"2020-04-01\":\"2020-05-31\"].copy()\n",
    "test = data[\"2020-06-01\":].copy()"
   ]
  },
  {
   "cell_type": "code",
   "execution_count": 5,
   "metadata": {},
   "outputs": [],
   "source": [
    "def SIR(y, t, p):\n",
    "    N = 3e6\n",
    "    ds = -p[0]*y[0]*y[1] / N\n",
    "    di = p[0]*y[0]*y[1] / N - p[1]*y[1]\n",
    "    return [ds, di]"
   ]
  },
  {
   "cell_type": "code",
   "execution_count": 6,
   "metadata": {},
   "outputs": [],
   "source": [
    "obs = train[\"I\"].copy()"
   ]
  },
  {
   "cell_type": "code",
   "execution_count": 7,
   "metadata": {},
   "outputs": [
    {
     "data": {
      "text/plain": [
       "778"
      ]
     },
     "execution_count": 7,
     "metadata": {},
     "output_type": "execute_result"
    }
   ],
   "source": [
    "obs.iloc[0]"
   ]
  },
  {
   "cell_type": "code",
   "execution_count": 16,
   "metadata": {},
   "outputs": [
    {
     "name": "stderr",
     "output_type": "stream",
     "text": [
      "logp = nan, ||grad|| = 0: 100%|██████████████████████████████████████████████████████████| 2/2 [00:00<00:00,  7.38it/s]\n"
     ]
    }
   ],
   "source": [
    "sir_model = DifferentialEquation(\n",
    "    func=SIR,\n",
    "    times=np.arange(0, len(train), 1),\n",
    "    n_states=2,\n",
    "    n_theta=2,\n",
    "    t0=0,\n",
    ")\n",
    "\n",
    "with pm.Model() as model4:\n",
    "    sigma = pm.HalfCauchy('sigma', 1, shape=1)\n",
    "\n",
    "    # R0 is bounded below by 1 because we see an epidemic has occured\n",
    "    R0 = pm.Bound(pm.Normal, lower=1)('R0', 2, 3)\n",
    "    lam = pm.Lognormal('lambda', pm.math.log(2), 2)\n",
    "    beta = pm.Deterministic('beta', lam*R0)\n",
    "    \n",
    "    sir_curves = sir_model(y0=[3e6-obs.iloc[0], obs.iloc[0]], theta=[beta, lam])\n",
    "\n",
    "    Y = pm.Lognormal('Y', mu=pm.math.log(sir_curves[:,1]), sd=sigma, observed=obs.to_numpy())\n",
    "    estimate = pm.find_MAP()\n",
    "    #prior = pm.sample_prior_predictive()\n",
    "    #trace = pm.sample(1000, target_accept=0.9, cores=1)\n",
    "    #posterior_predictive = pm.sample_posterior_predictive(trace)\n",
    "\n",
    "    #data = az.from_pymc3(trace=trace, prior=prior, posterior_predictive=posterior_predictive)"
   ]
  },
  {
   "cell_type": "code",
   "execution_count": 13,
   "metadata": {},
   "outputs": [
    {
     "data": {
      "text/plain": [
       "{'sigma_log__': array([0.]),\n",
       " 'R0_lowerbound__': array(0.),\n",
       " 'lambda_log__': array(0.69314718),\n",
       " 'sigma': array([1.]),\n",
       " 'R0': array(2.),\n",
       " 'lambda': array(2.),\n",
       " 'beta': array(4.00000001)}"
      ]
     },
     "execution_count": 13,
     "metadata": {},
     "output_type": "execute_result"
    }
   ],
   "source": [
    "estimate"
   ]
  },
  {
   "cell_type": "code",
   "execution_count": 15,
   "metadata": {},
   "outputs": [
    {
     "data": {
      "text/plain": [
       "array([  778,   841,   960,  1129,  1127,  1181,  1234,  1294,  1358,\n",
       "        1518,  1452,  1584,  1596,  1616,  1736,  1825,  1880,  1944,\n",
       "        1998,  2068,  2044,  2120,  2351,  2455,  2565,  2593,  2666,\n",
       "        2758,  2879,  2954,  3015,  3124,  3183,  3185,  3284,  3411,\n",
       "        3488,  3659,  3748,  3972,  4127,  4382,  4284,  4396,  4626,\n",
       "        4908,  5126,  5364,  5544,  5947,  6483,  7154,  7378,  7892,\n",
       "        8162,  8577,  9084,  9577, 10111, 10898, 10976], dtype=int64)"
      ]
     },
     "execution_count": 15,
     "metadata": {},
     "output_type": "execute_result"
    }
   ],
   "source": [
    "obs.to_numpy()"
   ]
  },
  {
   "cell_type": "code",
   "execution_count": null,
   "metadata": {},
   "outputs": [],
   "source": []
  },
  {
   "cell_type": "code",
   "execution_count": null,
   "metadata": {},
   "outputs": [],
   "source": []
  },
  {
   "cell_type": "code",
   "execution_count": null,
   "metadata": {},
   "outputs": [],
   "source": []
  },
  {
   "cell_type": "code",
   "execution_count": null,
   "metadata": {},
   "outputs": [],
   "source": []
  },
  {
   "cell_type": "code",
   "execution_count": null,
   "metadata": {},
   "outputs": [],
   "source": []
  },
  {
   "cell_type": "code",
   "execution_count": 5,
   "metadata": {},
   "outputs": [],
   "source": [
    "def R(t, R0, Rt, t_star, b):\n",
    "    return R0 - 1/2 * (1 + np.tanh((t - t_star)/b)) * (R0 - Rt)"
   ]
  },
  {
   "cell_type": "code",
   "execution_count": 6,
   "metadata": {},
   "outputs": [],
   "source": [
    "def SEIR(self, y, t, N, R0, Rt, t_star, b, gamma, delta, mu):\n",
    "    E, I, R, D = y\n",
    "    S = N - E - I - R - D\n",
    "    #dS = -beta * I * S / N\n",
    "    dE = R(t, R0, Rt, t_star, b) * I * S / N - delta * E\n",
    "    dI = delta * E - (gamma + mu) * I\n",
    "    dR = gamma * I\n",
    "    dD = mu * I\n",
    "    return dE, dI, dR, dD"
   ]
  },
  {
   "cell_type": "code",
   "execution_count": 106,
   "metadata": {},
   "outputs": [],
   "source": [
    "def SIRD(y, t, p):\n",
    "    #dS = -beta * I * S / N\n",
    "    dS = -p[1] * y[1] * y[0] / p[0]\n",
    "    #dI = beta * I * S / N - (gamma + mu) * I\n",
    "    dI = p[1] * y[1] * y[0] / p[0] - (p[2] + p[3]) * y[1]\n",
    "    #dR = gamma * I\n",
    "    dR = p[2] * y[1]\n",
    "    #dD = mu * I\n",
    "    dD = p[3] * y[1]\n",
    "    return dS, dI, dR, dD"
   ]
  },
  {
   "cell_type": "code",
   "execution_count": 104,
   "metadata": {},
   "outputs": [],
   "source": [
    "def SIR(y, t, p):\n",
    "    #dS = -beta * I * S / N\n",
    "    dS = -p[1] * y[1] * y[0] / p[0]\n",
    "    #dI = beta * I * S / N - (gamma + mu) * I\n",
    "    dI = p[1] * y[1] * y[0] / p[0] - p[2] * y[1]\n",
    "    #dR = gamma * I\n",
    "    dR = p[2] * y[1]\n",
    "    return dS, dI, dR"
   ]
  },
  {
   "cell_type": "code",
   "execution_count": 92,
   "metadata": {},
   "outputs": [
    {
     "data": {
      "text/plain": [
       "248"
      ]
     },
     "execution_count": 92,
     "metadata": {},
     "output_type": "execute_result"
    }
   ],
   "source": [
    "train.iloc[0,1]"
   ]
  },
  {
   "cell_type": "code",
   "execution_count": 105,
   "metadata": {},
   "outputs": [
    {
     "data": {
      "text/plain": [
       "date\n",
       "2020-04-01      778\n",
       "2020-04-02      841\n",
       "2020-04-03      960\n",
       "2020-04-04     1129\n",
       "2020-04-05     1127\n",
       "              ...  \n",
       "2020-05-27     9084\n",
       "2020-05-28     9577\n",
       "2020-05-29    10111\n",
       "2020-05-30    10898\n",
       "2020-05-31    10976\n",
       "Name: I, Length: 61, dtype: int64"
      ]
     },
     "execution_count": 105,
     "metadata": {},
     "output_type": "execute_result"
    }
   ],
   "source": [
    "train[\"I\"]"
   ]
  },
  {
   "cell_type": "code",
   "execution_count": null,
   "metadata": {},
   "outputs": [],
   "source": [
    "[0.07090355, 0.02272974, 0.00309915]"
   ]
  },
  {
   "cell_type": "code",
   "execution_count": 108,
   "metadata": {},
   "outputs": [
    {
     "name": "stderr",
     "output_type": "stream",
     "text": [
      "Only 100 samples in chain.\n",
      "Auto-assigning NUTS sampler...\n",
      "Initializing NUTS using jitter+adapt_diag...\n",
      "Sequential sampling (2 chains in 1 job)\n",
      "NUTS: [σ, r_mortality, r_recovery, r_transmission]\n",
      "Sampling chain 0, 0 divergences:   0%|                                                         | 0/600 [00:05<?, ?it/s]\n"
     ]
    },
    {
     "ename": "SamplingError",
     "evalue": "Bad initial energy",
     "output_type": "error",
     "traceback": [
      "\u001b[1;31m---------------------------------------------------------------------------\u001b[0m",
      "\u001b[1;31mSamplingError\u001b[0m                             Traceback (most recent call last)",
      "\u001b[1;32m<ipython-input-108-21d3349b54ba>\u001b[0m in \u001b[0;36m<module>\u001b[1;34m\u001b[0m\n\u001b[0;32m     33\u001b[0m     \u001b[0my_pred\u001b[0m \u001b[1;33m=\u001b[0m \u001b[0mpm\u001b[0m\u001b[1;33m.\u001b[0m\u001b[0mLognormal\u001b[0m\u001b[1;33m(\u001b[0m\u001b[1;34m\"y_pred\"\u001b[0m\u001b[1;33m,\u001b[0m \u001b[0mmu\u001b[0m\u001b[1;33m=\u001b[0m\u001b[0mpm\u001b[0m\u001b[1;33m.\u001b[0m\u001b[0mmath\u001b[0m\u001b[1;33m.\u001b[0m\u001b[0mlog\u001b[0m\u001b[1;33m(\u001b[0m\u001b[0my\u001b[0m\u001b[1;33m[\u001b[0m\u001b[1;33m:\u001b[0m\u001b[1;33m,\u001b[0m \u001b[1;36m1\u001b[0m\u001b[1;33m:\u001b[0m\u001b[1;33m]\u001b[0m\u001b[1;33m)\u001b[0m\u001b[1;33m,\u001b[0m \u001b[0msigma\u001b[0m\u001b[1;33m=\u001b[0m\u001b[0mσ\u001b[0m\u001b[1;33m,\u001b[0m \u001b[0mobserved\u001b[0m\u001b[1;33m=\u001b[0m\u001b[0mtrain\u001b[0m\u001b[1;33m)\u001b[0m\u001b[1;33m\u001b[0m\u001b[1;33m\u001b[0m\u001b[0m\n\u001b[0;32m     34\u001b[0m \u001b[1;33m\u001b[0m\u001b[0m\n\u001b[1;32m---> 35\u001b[1;33m     \u001b[0mtrace\u001b[0m \u001b[1;33m=\u001b[0m \u001b[0mpm\u001b[0m\u001b[1;33m.\u001b[0m\u001b[0msample\u001b[0m\u001b[1;33m(\u001b[0m\u001b[1;36m100\u001b[0m\u001b[1;33m,\u001b[0m \u001b[0mcores\u001b[0m\u001b[1;33m=\u001b[0m\u001b[1;36m1\u001b[0m\u001b[1;33m)\u001b[0m\u001b[1;33m\u001b[0m\u001b[1;33m\u001b[0m\u001b[0m\n\u001b[0m\u001b[0;32m     36\u001b[0m \u001b[1;33m\u001b[0m\u001b[0m\n",
      "\u001b[1;32m~\\Anaconda3\\envs\\ml\\lib\\site-packages\\pymc3\\sampling.py\u001b[0m in \u001b[0;36msample\u001b[1;34m(draws, step, init, n_init, start, trace, chain_idx, chains, cores, tune, progressbar, model, random_seed, discard_tuned_samples, compute_convergence_checks, **kwargs)\u001b[0m\n\u001b[0;32m    487\u001b[0m             \u001b[0m_log\u001b[0m\u001b[1;33m.\u001b[0m\u001b[0minfo\u001b[0m\u001b[1;33m(\u001b[0m\u001b[1;34m\"Sequential sampling ({} chains in 1 job)\"\u001b[0m\u001b[1;33m.\u001b[0m\u001b[0mformat\u001b[0m\u001b[1;33m(\u001b[0m\u001b[0mchains\u001b[0m\u001b[1;33m)\u001b[0m\u001b[1;33m)\u001b[0m\u001b[1;33m\u001b[0m\u001b[1;33m\u001b[0m\u001b[0m\n\u001b[0;32m    488\u001b[0m             \u001b[0m_print_step_hierarchy\u001b[0m\u001b[1;33m(\u001b[0m\u001b[0mstep\u001b[0m\u001b[1;33m)\u001b[0m\u001b[1;33m\u001b[0m\u001b[1;33m\u001b[0m\u001b[0m\n\u001b[1;32m--> 489\u001b[1;33m             \u001b[0mtrace\u001b[0m \u001b[1;33m=\u001b[0m \u001b[0m_sample_many\u001b[0m\u001b[1;33m(\u001b[0m\u001b[1;33m**\u001b[0m\u001b[0msample_args\u001b[0m\u001b[1;33m)\u001b[0m\u001b[1;33m\u001b[0m\u001b[1;33m\u001b[0m\u001b[0m\n\u001b[0m\u001b[0;32m    490\u001b[0m \u001b[1;33m\u001b[0m\u001b[0m\n\u001b[0;32m    491\u001b[0m     \u001b[0mdiscard\u001b[0m \u001b[1;33m=\u001b[0m \u001b[0mtune\u001b[0m \u001b[1;32mif\u001b[0m \u001b[0mdiscard_tuned_samples\u001b[0m \u001b[1;32melse\u001b[0m \u001b[1;36m0\u001b[0m\u001b[1;33m\u001b[0m\u001b[1;33m\u001b[0m\u001b[0m\n",
      "\u001b[1;32m~\\Anaconda3\\envs\\ml\\lib\\site-packages\\pymc3\\sampling.py\u001b[0m in \u001b[0;36m_sample_many\u001b[1;34m(draws, chain, chains, start, random_seed, step, **kwargs)\u001b[0m\n\u001b[0;32m    537\u001b[0m             \u001b[0mstep\u001b[0m\u001b[1;33m=\u001b[0m\u001b[0mstep\u001b[0m\u001b[1;33m,\u001b[0m\u001b[1;33m\u001b[0m\u001b[1;33m\u001b[0m\u001b[0m\n\u001b[0;32m    538\u001b[0m             \u001b[0mrandom_seed\u001b[0m\u001b[1;33m=\u001b[0m\u001b[0mrandom_seed\u001b[0m\u001b[1;33m[\u001b[0m\u001b[0mi\u001b[0m\u001b[1;33m]\u001b[0m\u001b[1;33m,\u001b[0m\u001b[1;33m\u001b[0m\u001b[1;33m\u001b[0m\u001b[0m\n\u001b[1;32m--> 539\u001b[1;33m             \u001b[1;33m**\u001b[0m\u001b[0mkwargs\u001b[0m\u001b[1;33m\u001b[0m\u001b[1;33m\u001b[0m\u001b[0m\n\u001b[0m\u001b[0;32m    540\u001b[0m         )\n\u001b[0;32m    541\u001b[0m         \u001b[1;32mif\u001b[0m \u001b[0mtrace\u001b[0m \u001b[1;32mis\u001b[0m \u001b[1;32mNone\u001b[0m\u001b[1;33m:\u001b[0m\u001b[1;33m\u001b[0m\u001b[1;33m\u001b[0m\u001b[0m\n",
      "\u001b[1;32m~\\Anaconda3\\envs\\ml\\lib\\site-packages\\pymc3\\sampling.py\u001b[0m in \u001b[0;36m_sample\u001b[1;34m(chain, progressbar, random_seed, start, draws, step, trace, tune, model, **kwargs)\u001b[0m\n\u001b[0;32m    603\u001b[0m     \u001b[1;32mtry\u001b[0m\u001b[1;33m:\u001b[0m\u001b[1;33m\u001b[0m\u001b[1;33m\u001b[0m\u001b[0m\n\u001b[0;32m    604\u001b[0m         \u001b[0mstrace\u001b[0m \u001b[1;33m=\u001b[0m \u001b[1;32mNone\u001b[0m\u001b[1;33m\u001b[0m\u001b[1;33m\u001b[0m\u001b[0m\n\u001b[1;32m--> 605\u001b[1;33m         \u001b[1;32mfor\u001b[0m \u001b[0mit\u001b[0m\u001b[1;33m,\u001b[0m \u001b[1;33m(\u001b[0m\u001b[0mstrace\u001b[0m\u001b[1;33m,\u001b[0m \u001b[0mdiverging\u001b[0m\u001b[1;33m)\u001b[0m \u001b[1;32min\u001b[0m \u001b[0menumerate\u001b[0m\u001b[1;33m(\u001b[0m\u001b[0msampling\u001b[0m\u001b[1;33m)\u001b[0m\u001b[1;33m:\u001b[0m\u001b[1;33m\u001b[0m\u001b[1;33m\u001b[0m\u001b[0m\n\u001b[0m\u001b[0;32m    606\u001b[0m             \u001b[1;32mif\u001b[0m \u001b[0mit\u001b[0m \u001b[1;33m>=\u001b[0m \u001b[0mskip_first\u001b[0m\u001b[1;33m:\u001b[0m\u001b[1;33m\u001b[0m\u001b[1;33m\u001b[0m\u001b[0m\n\u001b[0;32m    607\u001b[0m                 \u001b[0mtrace\u001b[0m \u001b[1;33m=\u001b[0m \u001b[0mMultiTrace\u001b[0m\u001b[1;33m(\u001b[0m\u001b[1;33m[\u001b[0m\u001b[0mstrace\u001b[0m\u001b[1;33m]\u001b[0m\u001b[1;33m)\u001b[0m\u001b[1;33m\u001b[0m\u001b[1;33m\u001b[0m\u001b[0m\n",
      "\u001b[1;32m~\\Anaconda3\\envs\\ml\\lib\\site-packages\\tqdm\\std.py\u001b[0m in \u001b[0;36m__iter__\u001b[1;34m(self)\u001b[0m\n\u001b[0;32m   1127\u001b[0m \u001b[1;33m\u001b[0m\u001b[0m\n\u001b[0;32m   1128\u001b[0m         \u001b[1;32mtry\u001b[0m\u001b[1;33m:\u001b[0m\u001b[1;33m\u001b[0m\u001b[1;33m\u001b[0m\u001b[0m\n\u001b[1;32m-> 1129\u001b[1;33m             \u001b[1;32mfor\u001b[0m \u001b[0mobj\u001b[0m \u001b[1;32min\u001b[0m \u001b[0miterable\u001b[0m\u001b[1;33m:\u001b[0m\u001b[1;33m\u001b[0m\u001b[1;33m\u001b[0m\u001b[0m\n\u001b[0m\u001b[0;32m   1130\u001b[0m                 \u001b[1;32myield\u001b[0m \u001b[0mobj\u001b[0m\u001b[1;33m\u001b[0m\u001b[1;33m\u001b[0m\u001b[0m\n\u001b[0;32m   1131\u001b[0m                 \u001b[1;31m# Update and possibly print the progressbar.\u001b[0m\u001b[1;33m\u001b[0m\u001b[1;33m\u001b[0m\u001b[1;33m\u001b[0m\u001b[0m\n",
      "\u001b[1;32m~\\Anaconda3\\envs\\ml\\lib\\site-packages\\pymc3\\sampling.py\u001b[0m in \u001b[0;36m_iter_sample\u001b[1;34m(draws, step, start, trace, chain, tune, model, random_seed)\u001b[0m\n\u001b[0;32m    698\u001b[0m                 \u001b[0mstep\u001b[0m \u001b[1;33m=\u001b[0m \u001b[0mstop_tuning\u001b[0m\u001b[1;33m(\u001b[0m\u001b[0mstep\u001b[0m\u001b[1;33m)\u001b[0m\u001b[1;33m\u001b[0m\u001b[1;33m\u001b[0m\u001b[0m\n\u001b[0;32m    699\u001b[0m             \u001b[1;32mif\u001b[0m \u001b[0mstep\u001b[0m\u001b[1;33m.\u001b[0m\u001b[0mgenerates_stats\u001b[0m\u001b[1;33m:\u001b[0m\u001b[1;33m\u001b[0m\u001b[1;33m\u001b[0m\u001b[0m\n\u001b[1;32m--> 700\u001b[1;33m                 \u001b[0mpoint\u001b[0m\u001b[1;33m,\u001b[0m \u001b[0mstats\u001b[0m \u001b[1;33m=\u001b[0m \u001b[0mstep\u001b[0m\u001b[1;33m.\u001b[0m\u001b[0mstep\u001b[0m\u001b[1;33m(\u001b[0m\u001b[0mpoint\u001b[0m\u001b[1;33m)\u001b[0m\u001b[1;33m\u001b[0m\u001b[1;33m\u001b[0m\u001b[0m\n\u001b[0m\u001b[0;32m    701\u001b[0m                 \u001b[1;32mif\u001b[0m \u001b[0mstrace\u001b[0m\u001b[1;33m.\u001b[0m\u001b[0msupports_sampler_stats\u001b[0m\u001b[1;33m:\u001b[0m\u001b[1;33m\u001b[0m\u001b[1;33m\u001b[0m\u001b[0m\n\u001b[0;32m    702\u001b[0m                     \u001b[0mstrace\u001b[0m\u001b[1;33m.\u001b[0m\u001b[0mrecord\u001b[0m\u001b[1;33m(\u001b[0m\u001b[0mpoint\u001b[0m\u001b[1;33m,\u001b[0m \u001b[0mstats\u001b[0m\u001b[1;33m)\u001b[0m\u001b[1;33m\u001b[0m\u001b[1;33m\u001b[0m\u001b[0m\n",
      "\u001b[1;32m~\\Anaconda3\\envs\\ml\\lib\\site-packages\\pymc3\\step_methods\\arraystep.py\u001b[0m in \u001b[0;36mstep\u001b[1;34m(self, point)\u001b[0m\n\u001b[0;32m    245\u001b[0m \u001b[1;33m\u001b[0m\u001b[0m\n\u001b[0;32m    246\u001b[0m         \u001b[1;32mif\u001b[0m \u001b[0mself\u001b[0m\u001b[1;33m.\u001b[0m\u001b[0mgenerates_stats\u001b[0m\u001b[1;33m:\u001b[0m\u001b[1;33m\u001b[0m\u001b[1;33m\u001b[0m\u001b[0m\n\u001b[1;32m--> 247\u001b[1;33m             \u001b[0mapoint\u001b[0m\u001b[1;33m,\u001b[0m \u001b[0mstats\u001b[0m \u001b[1;33m=\u001b[0m \u001b[0mself\u001b[0m\u001b[1;33m.\u001b[0m\u001b[0mastep\u001b[0m\u001b[1;33m(\u001b[0m\u001b[0marray\u001b[0m\u001b[1;33m)\u001b[0m\u001b[1;33m\u001b[0m\u001b[1;33m\u001b[0m\u001b[0m\n\u001b[0m\u001b[0;32m    248\u001b[0m             \u001b[0mpoint\u001b[0m \u001b[1;33m=\u001b[0m \u001b[0mself\u001b[0m\u001b[1;33m.\u001b[0m\u001b[0m_logp_dlogp_func\u001b[0m\u001b[1;33m.\u001b[0m\u001b[0marray_to_full_dict\u001b[0m\u001b[1;33m(\u001b[0m\u001b[0mapoint\u001b[0m\u001b[1;33m)\u001b[0m\u001b[1;33m\u001b[0m\u001b[1;33m\u001b[0m\u001b[0m\n\u001b[0;32m    249\u001b[0m             \u001b[1;32mreturn\u001b[0m \u001b[0mpoint\u001b[0m\u001b[1;33m,\u001b[0m \u001b[0mstats\u001b[0m\u001b[1;33m\u001b[0m\u001b[1;33m\u001b[0m\u001b[0m\n",
      "\u001b[1;32m~\\Anaconda3\\envs\\ml\\lib\\site-packages\\pymc3\\step_methods\\hmc\\base_hmc.py\u001b[0m in \u001b[0;36mastep\u001b[1;34m(self, q0)\u001b[0m\n\u001b[0;32m    142\u001b[0m             )\n\u001b[0;32m    143\u001b[0m             \u001b[0mself\u001b[0m\u001b[1;33m.\u001b[0m\u001b[0m_warnings\u001b[0m\u001b[1;33m.\u001b[0m\u001b[0mappend\u001b[0m\u001b[1;33m(\u001b[0m\u001b[0mwarning\u001b[0m\u001b[1;33m)\u001b[0m\u001b[1;33m\u001b[0m\u001b[1;33m\u001b[0m\u001b[0m\n\u001b[1;32m--> 144\u001b[1;33m             \u001b[1;32mraise\u001b[0m \u001b[0mSamplingError\u001b[0m\u001b[1;33m(\u001b[0m\u001b[1;34m\"Bad initial energy\"\u001b[0m\u001b[1;33m)\u001b[0m\u001b[1;33m\u001b[0m\u001b[1;33m\u001b[0m\u001b[0m\n\u001b[0m\u001b[0;32m    145\u001b[0m \u001b[1;33m\u001b[0m\u001b[0m\n\u001b[0;32m    146\u001b[0m         \u001b[0madapt_step\u001b[0m \u001b[1;33m=\u001b[0m \u001b[0mself\u001b[0m\u001b[1;33m.\u001b[0m\u001b[0mtune\u001b[0m \u001b[1;32mand\u001b[0m \u001b[0mself\u001b[0m\u001b[1;33m.\u001b[0m\u001b[0madapt_step_size\u001b[0m\u001b[1;33m\u001b[0m\u001b[1;33m\u001b[0m\u001b[0m\n",
      "\u001b[1;31mSamplingError\u001b[0m: Bad initial energy"
     ]
    }
   ],
   "source": [
    "ode_model = DifferentialEquation(\n",
    "    func=SIRD,\n",
    "    times=np.arange(0,len(train),1),\n",
    "    n_states=4, \n",
    "    n_theta=4,\n",
    "    t0=0\n",
    ")\n",
    "\n",
    "with pm.Model() as BayesSEIR:\n",
    "    ### Priors ###\n",
    "    #r_progression = pm.Normal(\"r_progression\", mu=1/5, sigma=10)\n",
    "    #r_recovery     = pm.Uniform(\"r_recovery\", mu=1/10, sigma=10)\n",
    "    #r_mortality    = pm.Uniform(\"r_mortality\", mu=0.02, sigma=1)\n",
    "    r_transmission = pm.Uniform(\"r_transmission\", lower=0.01, upper=1)\n",
    "    r_recovery     = pm.Uniform(\"r_recovery\", lower=0.01, upper=1)\n",
    "    r_mortality    = pm.Uniform(\"r_mortality\", lower=0, upper=1)\n",
    "    \n",
    "    # Initial Values\n",
    "    \n",
    "    #init_I = pm.Lognormal(\"init_I\", mu=np.log(train.iloc[0,0]), sigma=1.5)\n",
    "    init_I = train.iloc[0,0]\n",
    "    init_R = train.iloc[0,1]\n",
    "    init_D = train.iloc[0,2]\n",
    "    init_S = 44e6 - init_I - init_R - init_D\n",
    "    \n",
    "    ### Simulation ###\n",
    "    y0 = (init_S, init_I, init_R, init_D)\n",
    "    params = (population, r_transmission, r_recovery, r_mortality)\n",
    "    y = ode_model(y0=y0, theta=params)\n",
    "    \n",
    "    ### Likelihood ###\n",
    "    σ = pm.HalfCauchy(\"σ\", beta=1, shape=2)\n",
    "    y_pred = pm.Lognormal(\"y_pred\", mu=pm.math.log(y[:, 1:]), sigma=σ, observed=train)\n",
    "    \n",
    "    trace = pm.sample(100, cores=1)\n",
    "    "
   ]
  },
  {
   "cell_type": "code",
   "execution_count": null,
   "metadata": {},
   "outputs": [],
   "source": []
  },
  {
   "cell_type": "code",
   "execution_count": null,
   "metadata": {},
   "outputs": [],
   "source": []
  },
  {
   "cell_type": "code",
   "execution_count": null,
   "metadata": {},
   "outputs": [],
   "source": []
  },
  {
   "cell_type": "code",
   "execution_count": null,
   "metadata": {},
   "outputs": [],
   "source": []
  },
  {
   "cell_type": "code",
   "execution_count": null,
   "metadata": {},
   "outputs": [],
   "source": []
  },
  {
   "cell_type": "code",
   "execution_count": null,
   "metadata": {},
   "outputs": [],
   "source": []
  },
  {
   "cell_type": "code",
   "execution_count": null,
   "metadata": {},
   "outputs": [],
   "source": []
  },
  {
   "cell_type": "code",
   "execution_count": null,
   "metadata": {},
   "outputs": [],
   "source": []
  },
  {
   "cell_type": "code",
   "execution_count": null,
   "metadata": {},
   "outputs": [],
   "source": []
  },
  {
   "cell_type": "code",
   "execution_count": null,
   "metadata": {},
   "outputs": [],
   "source": []
  },
  {
   "cell_type": "code",
   "execution_count": null,
   "metadata": {},
   "outputs": [],
   "source": []
  },
  {
   "cell_type": "code",
   "execution_count": null,
   "metadata": {},
   "outputs": [],
   "source": []
  },
  {
   "cell_type": "code",
   "execution_count": 62,
   "metadata": {},
   "outputs": [],
   "source": [
    "def SEIR(y, t, p):\n",
    "    S = p[0] - y[0] - y[1] - y[2] - y[3]\n",
    "    #dS = -beta * I * S / N\n",
    "    dE = R(t, p[1], p[2], p[3], p[4]) * p[5] * y[1] * S / p[0] - p[6] * y[0]\n",
    "    dI = p[6] * y[0] - (p[5] + p[7]) * y[1]\n",
    "    dR = p[5] * y[1]\n",
    "    dD = p[7] * y[1]\n",
    "    return dE, dI, dR, dD"
   ]
  },
  {
   "cell_type": "code",
   "execution_count": 77,
   "metadata": {},
   "outputs": [
    {
     "name": "stderr",
     "output_type": "stream",
     "text": [
      "Only 100 samples in chain.\n",
      "Auto-assigning NUTS sampler...\n",
      "Initializing NUTS using jitter+adapt_diag...\n",
      "Sequential sampling (2 chains in 1 job)\n",
      "NUTS: [σ, init_I, init_E, b, t_star, Rt, R0]\n",
      "Sampling chain 0, 0 divergences:  30%|█████████████▌                               | 180/600 [57:28<2:14:05, 19.16s/it]\n",
      "Only one chain was sampled, this makes it impossible to run some convergence checks\n"
     ]
    }
   ],
   "source": [
    "ode_model = DifferentialEquation(\n",
    "    func=SEIR,\n",
    "    times=np.arange(0,len(train),1),\n",
    "    n_states=4, \n",
    "    n_theta=8,\n",
    "    t0=0\n",
    ")\n",
    "\n",
    "with pm.Model() as BayesSEIR:\n",
    "    ### Priors ###\n",
    "    population   = 44e6\n",
    "    \n",
    "    t_latency    = 3.0\n",
    "    t_infectious = 6.5\n",
    "    \n",
    "    r_progression = 1/t_latency\n",
    "    r_recovery    = 1/t_infectious\n",
    "    r_mortality   = 0.02\n",
    "    \n",
    "    # Beta (Tanh aproximation)\n",
    "    R0     = pm.Normal(\"R0\", mu=2.5, sigma=2)\n",
    "    Rt     = pm.Normal(\"Rt\", mu=2.5, sigma=2)\n",
    "    t_star = pm.Normal(\"t_star\", mu=10, sigma=10)\n",
    "    b      = pm.Lognormal(\"b\", mu=np.log(3), sigma=1.5)\n",
    "    \n",
    "    # Initial Values\n",
    "    init_E = pm.Lognormal(\"init_E\", mu=np.log(train.iloc[int(t_latency),0]), sigma=1.5)\n",
    "    init_I = pm.Lognormal(\"init_I\", mu=np.log(train.iloc[0,0]), sigma=1.5)\n",
    "    init_R = train.iloc[0,1]\n",
    "    init_D = train.iloc[0,2]\n",
    "\n",
    "    ### Simulation ###\n",
    "    #t = np.arange(0, until, step=1)\n",
    "    y0 = (init_E, init_I, init_R, init_D)\n",
    "    params = (population, R0, Rt, t_star, b, r_recovery, r_progression, r_mortality)\n",
    "    y = ode_model(y0=y0, theta=params)\n",
    "    \n",
    "    ### Likelihood ###\n",
    "    σ = pm.HalfCauchy(\"σ\", beta=1)\n",
    "    y_pred = pm.StudentT(\"y_pred\", mu=y[:, 1:], nu=4, sigma=σ, observed=train)\n",
    "    \n",
    "    trace = pm.sample(100, cores=1)\n",
    "    "
   ]
  },
  {
   "cell_type": "code",
   "execution_count": null,
   "metadata": {},
   "outputs": [],
   "source": [
    "trace = pm.sample(2000, tune=1000, cores=1)"
   ]
  },
  {
   "cell_type": "code",
   "execution_count": null,
   "metadata": {},
   "outputs": [],
   "source": [
    "t0 = np.arange(0, until, step)\n",
    "result = odeint(SEIR, y0, t0, args=params)\n"
   ]
  },
  {
   "cell_type": "code",
   "execution_count": null,
   "metadata": {},
   "outputs": [],
   "source": [
    "def simulate(self, y0, until, step=1):\n",
    "    \n",
    "    \n",
    "    self.output = pd.DataFrame(result, columns=self.compartment_names)\n",
    "    return self.output"
   ]
  },
  {
   "cell_type": "code",
   "execution_count": null,
   "metadata": {},
   "outputs": [],
   "source": [
    "def "
   ]
  },
  {
   "cell_type": "code",
   "execution_count": null,
   "metadata": {},
   "outputs": [],
   "source": [
    "class SEIR(FitSimulateMixin):\n",
    "    def __init__(self, population=44e6,\n",
    "                 r_transmission=0.1, r_progression=0.05, \n",
    "                 r_recovery=0.01, r_mortality=0.005, \n",
    "                 init_exposed=0, init_infected=1, \n",
    "                 init_recovered=0, init_dead=0):\n",
    "        self.params = {\n",
    "            \"population\": population,\n",
    "            \"r_transmission\": r_transmission,\n",
    "            \"r_progression\": r_progression,\n",
    "            \"r_recovery\": r_recovery,\n",
    "            \"r_mortality\": r_mortality,\n",
    "        }\n",
    "        self.init_values = {\n",
    "            \"init_exposed\": init_exposed,\n",
    "            \"init_infected\": init_infected,\n",
    "            \"init_recovered\": init_recovered,\n",
    "            \"init_dead\": init_dead,\n",
    "        }\n",
    "        self.compartment_names = [\"E\", \"I\", \"R\", \"D\"]\n",
    "    \n",
    "    def _deqn(self, y, t, N, beta, gamma, delta, mu):\n",
    "        E, I, R, D = y\n",
    "        S = N - E - I - R - D\n",
    "        #dS = -beta * I * S / N\n",
    "        dE = beta * I * S / N - delta * E\n",
    "        dI = delta * E - (gamma + mu) * I\n",
    "        dR = gamma * I\n",
    "        dD = mu * I\n",
    "        return dE, dI, dR, dD\n"
   ]
  },
  {
   "cell_type": "code",
   "execution_count": null,
   "metadata": {},
   "outputs": [],
   "source": []
  },
  {
   "cell_type": "code",
   "execution_count": null,
   "metadata": {},
   "outputs": [],
   "source": []
  },
  {
   "cell_type": "code",
   "execution_count": null,
   "metadata": {},
   "outputs": [],
   "source": []
  },
  {
   "cell_type": "code",
   "execution_count": null,
   "metadata": {},
   "outputs": [],
   "source": []
  },
  {
   "cell_type": "code",
   "execution_count": null,
   "metadata": {},
   "outputs": [],
   "source": []
  }
 ],
 "metadata": {
  "kernelspec": {
   "display_name": "Python 3",
   "language": "python",
   "name": "python3"
  },
  "language_info": {
   "codemirror_mode": {
    "name": "ipython",
    "version": 3
   },
   "file_extension": ".py",
   "mimetype": "text/x-python",
   "name": "python",
   "nbconvert_exporter": "python",
   "pygments_lexer": "ipython3",
   "version": "3.7.7"
  }
 },
 "nbformat": 4,
 "nbformat_minor": 4
}
