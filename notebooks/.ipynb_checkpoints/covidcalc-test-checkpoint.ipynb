{
 "cells": [
  {
   "cell_type": "code",
   "execution_count": 1,
   "metadata": {},
   "outputs": [],
   "source": [
    "%load_ext autoreload\n",
    "%autoreload 2"
   ]
  },
  {
   "cell_type": "code",
   "execution_count": 2,
   "metadata": {},
   "outputs": [],
   "source": [
    "import sys\n",
    "sys.path.append(\"../scripts\")"
   ]
  },
  {
   "cell_type": "code",
   "execution_count": 3,
   "metadata": {},
   "outputs": [],
   "source": [
    "import numpy as np\n",
    "import pandas as pd\n",
    "import matplotlib.pyplot as plt"
   ]
  },
  {
   "cell_type": "code",
   "execution_count": 4,
   "metadata": {},
   "outputs": [],
   "source": [
    "plt.rcParams[\"figure.figsize\"] = (14,6)"
   ]
  },
  {
   "cell_type": "code",
   "execution_count": 5,
   "metadata": {},
   "outputs": [
    {
     "data": {
      "text/html": [
       "<div>\n",
       "<style scoped>\n",
       "    .dataframe tbody tr th:only-of-type {\n",
       "        vertical-align: middle;\n",
       "    }\n",
       "\n",
       "    .dataframe tbody tr th {\n",
       "        vertical-align: top;\n",
       "    }\n",
       "\n",
       "    .dataframe thead th {\n",
       "        text-align: right;\n",
       "    }\n",
       "</style>\n",
       "<table border=\"1\" class=\"dataframe\">\n",
       "  <thead>\n",
       "    <tr style=\"text-align: right;\">\n",
       "      <th></th>\n",
       "      <th>I</th>\n",
       "      <th>R</th>\n",
       "      <th>D</th>\n",
       "    </tr>\n",
       "    <tr>\n",
       "      <th>date</th>\n",
       "      <th></th>\n",
       "      <th></th>\n",
       "      <th></th>\n",
       "    </tr>\n",
       "  </thead>\n",
       "  <tbody>\n",
       "    <tr>\n",
       "      <th>2020-03-03</th>\n",
       "      <td>1</td>\n",
       "      <td>0</td>\n",
       "      <td>0</td>\n",
       "    </tr>\n",
       "    <tr>\n",
       "      <th>2020-03-04</th>\n",
       "      <td>1</td>\n",
       "      <td>0</td>\n",
       "      <td>0</td>\n",
       "    </tr>\n",
       "    <tr>\n",
       "      <th>2020-03-05</th>\n",
       "      <td>1</td>\n",
       "      <td>0</td>\n",
       "      <td>0</td>\n",
       "    </tr>\n",
       "    <tr>\n",
       "      <th>2020-03-06</th>\n",
       "      <td>2</td>\n",
       "      <td>0</td>\n",
       "      <td>0</td>\n",
       "    </tr>\n",
       "    <tr>\n",
       "      <th>2020-03-07</th>\n",
       "      <td>8</td>\n",
       "      <td>0</td>\n",
       "      <td>0</td>\n",
       "    </tr>\n",
       "    <tr>\n",
       "      <th>...</th>\n",
       "      <td>...</td>\n",
       "      <td>...</td>\n",
       "      <td>...</td>\n",
       "    </tr>\n",
       "    <tr>\n",
       "      <th>2020-06-05</th>\n",
       "      <td>14317</td>\n",
       "      <td>6088</td>\n",
       "      <td>632</td>\n",
       "    </tr>\n",
       "    <tr>\n",
       "      <th>2020-06-06</th>\n",
       "      <td>15192</td>\n",
       "      <td>6180</td>\n",
       "      <td>648</td>\n",
       "    </tr>\n",
       "    <tr>\n",
       "      <th>2020-06-07</th>\n",
       "      <td>15221</td>\n",
       "      <td>6909</td>\n",
       "      <td>664</td>\n",
       "    </tr>\n",
       "    <tr>\n",
       "      <th>2020-06-08</th>\n",
       "      <td>15622</td>\n",
       "      <td>7305</td>\n",
       "      <td>693</td>\n",
       "    </tr>\n",
       "    <tr>\n",
       "      <th>2020-06-09</th>\n",
       "      <td>16476</td>\n",
       "      <td>7568</td>\n",
       "      <td>717</td>\n",
       "    </tr>\n",
       "  </tbody>\n",
       "</table>\n",
       "<p>99 rows × 3 columns</p>\n",
       "</div>"
      ],
      "text/plain": [
       "                I     R    D\n",
       "date                        \n",
       "2020-03-03      1     0    0\n",
       "2020-03-04      1     0    0\n",
       "2020-03-05      1     0    0\n",
       "2020-03-06      2     0    0\n",
       "2020-03-07      8     0    0\n",
       "...           ...   ...  ...\n",
       "2020-06-05  14317  6088  632\n",
       "2020-06-06  15192  6180  648\n",
       "2020-06-07  15221  6909  664\n",
       "2020-06-08  15622  7305  693\n",
       "2020-06-09  16476  7568  717\n",
       "\n",
       "[99 rows x 3 columns]"
      ]
     },
     "execution_count": 5,
     "metadata": {},
     "output_type": "execute_result"
    }
   ],
   "source": [
    "obs = pd.read_csv(\"../data/obs_arg.csv\", parse_dates=[\"date\"])\n",
    "obs = obs.set_index(\"date\")\n",
    "obs = obs.drop(columns=[\"Total_Confirmed\"])\n",
    "obs"
   ]
  },
  {
   "cell_type": "code",
   "execution_count": 6,
   "metadata": {},
   "outputs": [
    {
     "data": {
      "text/plain": [
       "<matplotlib.axes._subplots.AxesSubplot at 0x23d218e8088>"
      ]
     },
     "execution_count": 6,
     "metadata": {},
     "output_type": "execute_result"
    },
    {
     "data": {
      "image/png": "[encoded data removed]",
      "text/plain": [
       "<Figure size 1008x432 with 1 Axes>"
      ]
     },
     "metadata": {
      "needs_background": "light"
     },
     "output_type": "display_data"
    }
   ],
   "source": [
    "obs.plot()"
   ]
  },
  {
   "cell_type": "code",
   "execution_count": 7,
   "metadata": {},
   "outputs": [],
   "source": [
    "obs = obs.rolling(window=7, min_periods=1).mean()"
   ]
  },
  {
   "cell_type": "code",
   "execution_count": 8,
   "metadata": {},
   "outputs": [
    {
     "data": {
      "text/plain": [
       "<matplotlib.axes._subplots.AxesSubplot at 0x23d25f7ff88>"
      ]
     },
     "execution_count": 8,
     "metadata": {},
     "output_type": "execute_result"
    },
    {
     "data": {
      "image/png": "[encoded data removed]",
      "text/plain": [
       "<Figure size 1008x432 with 1 Axes>"
      ]
     },
     "metadata": {
      "needs_background": "light"
     },
     "output_type": "display_data"
    }
   ],
   "source": [
    "obs.plot()"
   ]
  },
  {
   "cell_type": "code",
   "execution_count": 11,
   "metadata": {},
   "outputs": [
    {
     "data": {
      "text/html": [
       "<div>\n",
       "<style scoped>\n",
       "    .dataframe tbody tr th:only-of-type {\n",
       "        vertical-align: middle;\n",
       "    }\n",
       "\n",
       "    .dataframe tbody tr th {\n",
       "        vertical-align: top;\n",
       "    }\n",
       "\n",
       "    .dataframe thead th {\n",
       "        text-align: right;\n",
       "    }\n",
       "</style>\n",
       "<table border=\"1\" class=\"dataframe\">\n",
       "  <thead>\n",
       "    <tr style=\"text-align: right;\">\n",
       "      <th></th>\n",
       "      <th>I</th>\n",
       "      <th>R</th>\n",
       "      <th>D</th>\n",
       "    </tr>\n",
       "    <tr>\n",
       "      <th>date</th>\n",
       "      <th></th>\n",
       "      <th></th>\n",
       "      <th></th>\n",
       "    </tr>\n",
       "  </thead>\n",
       "  <tbody>\n",
       "    <tr>\n",
       "      <th>2020-04-01</th>\n",
       "      <td>617.428571</td>\n",
       "      <td>142.142857</td>\n",
       "      <td>19.571429</td>\n",
       "    </tr>\n",
       "    <tr>\n",
       "      <th>2020-04-02</th>\n",
       "      <td>676.142857</td>\n",
       "      <td>169.714286</td>\n",
       "      <td>23.428571</td>\n",
       "    </tr>\n",
       "    <tr>\n",
       "      <th>2020-04-03</th>\n",
       "      <td>741.285714</td>\n",
       "      <td>197.428571</td>\n",
       "      <td>27.142857</td>\n",
       "    </tr>\n",
       "    <tr>\n",
       "      <th>2020-04-04</th>\n",
       "      <td>816.857143</td>\n",
       "      <td>227.000000</td>\n",
       "      <td>30.714286</td>\n",
       "    </tr>\n",
       "    <tr>\n",
       "      <th>2020-04-05</th>\n",
       "      <td>884.428571</td>\n",
       "      <td>256.714286</td>\n",
       "      <td>34.285714</td>\n",
       "    </tr>\n",
       "    <tr>\n",
       "      <th>...</th>\n",
       "      <td>...</td>\n",
       "      <td>...</td>\n",
       "      <td>...</td>\n",
       "    </tr>\n",
       "    <tr>\n",
       "      <th>2020-05-27</th>\n",
       "      <td>7818.571429</td>\n",
       "      <td>3695.857143</td>\n",
       "      <td>456.714286</td>\n",
       "    </tr>\n",
       "    <tr>\n",
       "      <th>2020-05-28</th>\n",
       "      <td>8260.571429</td>\n",
       "      <td>3922.285714</td>\n",
       "      <td>469.857143</td>\n",
       "    </tr>\n",
       "    <tr>\n",
       "      <th>2020-05-29</th>\n",
       "      <td>8683.000000</td>\n",
       "      <td>4168.857143</td>\n",
       "      <td>482.285714</td>\n",
       "    </tr>\n",
       "    <tr>\n",
       "      <th>2020-05-30</th>\n",
       "      <td>9185.857143</td>\n",
       "      <td>4348.571429</td>\n",
       "      <td>494.142857</td>\n",
       "    </tr>\n",
       "    <tr>\n",
       "      <th>2020-05-31</th>\n",
       "      <td>9626.428571</td>\n",
       "      <td>4577.714286</td>\n",
       "      <td>506.571429</td>\n",
       "    </tr>\n",
       "  </tbody>\n",
       "</table>\n",
       "<p>61 rows × 3 columns</p>\n",
       "</div>"
      ],
      "text/plain": [
       "                      I            R           D\n",
       "date                                            \n",
       "2020-04-01   617.428571   142.142857   19.571429\n",
       "2020-04-02   676.142857   169.714286   23.428571\n",
       "2020-04-03   741.285714   197.428571   27.142857\n",
       "2020-04-04   816.857143   227.000000   30.714286\n",
       "2020-04-05   884.428571   256.714286   34.285714\n",
       "...                 ...          ...         ...\n",
       "2020-05-27  7818.571429  3695.857143  456.714286\n",
       "2020-05-28  8260.571429  3922.285714  469.857143\n",
       "2020-05-29  8683.000000  4168.857143  482.285714\n",
       "2020-05-30  9185.857143  4348.571429  494.142857\n",
       "2020-05-31  9626.428571  4577.714286  506.571429\n",
       "\n",
       "[61 rows x 3 columns]"
      ]
     },
     "execution_count": 11,
     "metadata": {},
     "output_type": "execute_result"
    }
   ],
   "source": [
    "train = obs[\"2020-04-01\":\"2020-05-31\"].copy()\n",
    "train"
   ]
  },
  {
   "cell_type": "code",
   "execution_count": 13,
   "metadata": {},
   "outputs": [
    {
     "data": {
      "text/html": [
       "<div>\n",
       "<style scoped>\n",
       "    .dataframe tbody tr th:only-of-type {\n",
       "        vertical-align: middle;\n",
       "    }\n",
       "\n",
       "    .dataframe tbody tr th {\n",
       "        vertical-align: top;\n",
       "    }\n",
       "\n",
       "    .dataframe thead th {\n",
       "        text-align: right;\n",
       "    }\n",
       "</style>\n",
       "<table border=\"1\" class=\"dataframe\">\n",
       "  <thead>\n",
       "    <tr style=\"text-align: right;\">\n",
       "      <th></th>\n",
       "      <th>I</th>\n",
       "      <th>R</th>\n",
       "      <th>D</th>\n",
       "    </tr>\n",
       "    <tr>\n",
       "      <th>date</th>\n",
       "      <th></th>\n",
       "      <th></th>\n",
       "      <th></th>\n",
       "    </tr>\n",
       "  </thead>\n",
       "  <tbody>\n",
       "    <tr>\n",
       "      <th>2020-06-01</th>\n",
       "      <td>10080.142857</td>\n",
       "      <td>4795.142857</td>\n",
       "      <td>519.285714</td>\n",
       "    </tr>\n",
       "    <tr>\n",
       "      <th>2020-06-02</th>\n",
       "      <td>10575.000000</td>\n",
       "      <td>5015.428571</td>\n",
       "      <td>531.428571</td>\n",
       "    </tr>\n",
       "    <tr>\n",
       "      <th>2020-06-03</th>\n",
       "      <td>11104.285714</td>\n",
       "      <td>5236.428571</td>\n",
       "      <td>543.285714</td>\n",
       "    </tr>\n",
       "    <tr>\n",
       "      <th>2020-06-04</th>\n",
       "      <td>11678.428571</td>\n",
       "      <td>5433.000000</td>\n",
       "      <td>557.571429</td>\n",
       "    </tr>\n",
       "    <tr>\n",
       "      <th>2020-06-05</th>\n",
       "      <td>12279.285714</td>\n",
       "      <td>5618.714286</td>\n",
       "      <td>573.571429</td>\n",
       "    </tr>\n",
       "    <tr>\n",
       "      <th>2020-06-06</th>\n",
       "      <td>12892.714286</td>\n",
       "      <td>5817.571429</td>\n",
       "      <td>590.714286</td>\n",
       "    </tr>\n",
       "    <tr>\n",
       "      <th>2020-06-07</th>\n",
       "      <td>13499.142857</td>\n",
       "      <td>6042.285714</td>\n",
       "      <td>608.571429</td>\n",
       "    </tr>\n",
       "    <tr>\n",
       "      <th>2020-06-08</th>\n",
       "      <td>14111.142857</td>\n",
       "      <td>6297.142857</td>\n",
       "      <td>628.142857</td>\n",
       "    </tr>\n",
       "    <tr>\n",
       "      <th>2020-06-09</th>\n",
       "      <td>14744.714286</td>\n",
       "      <td>6562.714286</td>\n",
       "      <td>649.285714</td>\n",
       "    </tr>\n",
       "  </tbody>\n",
       "</table>\n",
       "</div>"
      ],
      "text/plain": [
       "                       I            R           D\n",
       "date                                             \n",
       "2020-06-01  10080.142857  4795.142857  519.285714\n",
       "2020-06-02  10575.000000  5015.428571  531.428571\n",
       "2020-06-03  11104.285714  5236.428571  543.285714\n",
       "2020-06-04  11678.428571  5433.000000  557.571429\n",
       "2020-06-05  12279.285714  5618.714286  573.571429\n",
       "2020-06-06  12892.714286  5817.571429  590.714286\n",
       "2020-06-07  13499.142857  6042.285714  608.571429\n",
       "2020-06-08  14111.142857  6297.142857  628.142857\n",
       "2020-06-09  14744.714286  6562.714286  649.285714"
      ]
     },
     "execution_count": 13,
     "metadata": {},
     "output_type": "execute_result"
    }
   ],
   "source": [
    "test = obs[\"2020-06-01\":\"2020-06-15\"].copy()\n",
    "test"
   ]
  },
  {
   "cell_type": "code",
   "execution_count": 14,
   "metadata": {},
   "outputs": [],
   "source": [
    "from SEIR import SIR, SEIR"
   ]
  },
  {
   "cell_type": "code",
   "execution_count": 15,
   "metadata": {},
   "outputs": [],
   "source": [
    "model = SEIR(population=44e6)"
   ]
  },
  {
   "cell_type": "code",
   "execution_count": 17,
   "metadata": {},
   "outputs": [
    {
     "data": {
      "text/plain": [
       " final_simplex: (array([[6.93511319e-02, 2.93044300e-03, 2.14063791e-02, 7.79590339e-01,\n",
       "        1.94288867e+02],\n",
       "       [6.93511326e-02, 2.93044279e-03, 2.14063790e-02, 7.79590456e-01,\n",
       "        1.94288808e+02],\n",
       "       [6.93511321e-02, 2.93044264e-03, 2.14063791e-02, 7.79590395e-01,\n",
       "        1.94288836e+02],\n",
       "       [6.93511309e-02, 2.93044309e-03, 2.14063795e-02, 7.79590185e-01,\n",
       "        1.94288952e+02],\n",
       "       [6.93511321e-02, 2.93044309e-03, 2.14063791e-02, 7.79590360e-01,\n",
       "        1.94288855e+02],\n",
       "       [6.93511315e-02, 2.93044287e-03, 2.14063793e-02, 7.79590279e-01,\n",
       "        1.94288894e+02]]), array([27759.89612661, 27759.89612663, 27759.89612664, 27759.89612665,\n",
       "       27759.89612665, 27759.89612665]))\n",
       "           fun: 27759.896126611784\n",
       "       message: 'Optimization terminated successfully.'\n",
       "          nfev: 1425\n",
       "           nit: 883\n",
       "        status: 0\n",
       "       success: True\n",
       "             x: array([6.93511319e-02, 2.93044300e-03, 2.14063791e-02, 7.79590339e-01,\n",
       "       1.94288867e+02])"
      ]
     },
     "execution_count": 17,
     "metadata": {},
     "output_type": "execute_result"
    }
   ],
   "source": [
    "model.fit(train, estimate=('transmission_rate', \"mortality_rate\", \"recovery_rate\", \"progression_rate\", \"initial_exposed\"),\n",
    "          initial_exposed=1000, weights=None, method=\"Nelder-Mead\", options={\"maxiter\": 2000})"
   ]
  },
  {
   "cell_type": "code",
   "execution_count": 30,
   "metadata": {},
   "outputs": [],
   "source": [
    "T = 75\n",
    "res = model.simulate(until=T)\n",
    "idx = pd.date_range(start=\"2020-04-01\", periods=T, freq=\"D\")\n",
    "res.index = idx"
   ]
  },
  {
   "cell_type": "code",
   "execution_count": 38,
   "metadata": {},
   "outputs": [
    {
     "data": {
      "text/plain": [
       "<matplotlib.axes._subplots.AxesSubplot at 0x23d25099348>"
      ]
     },
     "execution_count": 38,
     "metadata": {},
     "output_type": "execute_result"
    },
    {
     "data": {
      "image/png": "[encoded data removed]",
      "text/plain": [
       "<Figure size 1008x432 with 1 Axes>"
      ]
     },
     "metadata": {
      "needs_background": "light"
     },
     "output_type": "display_data"
    }
   ],
   "source": [
    "ax = res.plot()\n",
    "train.plot(ax=ax, style=\"r.\")\n",
    "test.plot(ax=ax, style=\"b.\")"
   ]
  },
  {
   "cell_type": "code",
   "execution_count": null,
   "metadata": {},
   "outputs": [],
   "source": []
  },
  {
   "cell_type": "code",
   "execution_count": null,
   "metadata": {},
   "outputs": [],
   "source": []
  },
  {
   "cell_type": "code",
   "execution_count": null,
   "metadata": {},
   "outputs": [],
   "source": []
  },
  {
   "cell_type": "code",
   "execution_count": null,
   "metadata": {},
   "outputs": [],
   "source": []
  },
  {
   "cell_type": "code",
   "execution_count": null,
   "metadata": {},
   "outputs": [],
   "source": []
  }
 ],
 "metadata": {
  "kernelspec": {
   "display_name": "Python 3",
   "language": "python",
   "name": "python3"
  },
  "language_info": {
   "codemirror_mode": {
    "name": "ipython",
    "version": 3
   },
   "file_extension": ".py",
   "mimetype": "text/x-python",
   "name": "python",
   "nbconvert_exporter": "python",
   "pygments_lexer": "ipython3",
   "version": "3.7.7"
  }
 },
 "nbformat": 4,
 "nbformat_minor": 4
}
