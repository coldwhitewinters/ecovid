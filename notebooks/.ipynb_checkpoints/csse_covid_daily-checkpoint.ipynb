{
 "cells": [
  {
   "cell_type": "code",
   "execution_count": 1,
   "metadata": {},
   "outputs": [],
   "source": [
    "import numpy as np\n",
    "import pandas as pd\n",
    "import matplotlib.pyplot as plt\n",
    "import seaborn as sns"
   ]
  },
  {
   "cell_type": "code",
   "execution_count": 3,
   "metadata": {},
   "outputs": [],
   "source": [
    "data = pd.read_csv(\"../data/csse_covid_19_data/csse_covid_19_daily_reports/05-12-2020.csv\")"
   ]
  },
  {
   "cell_type": "code",
   "execution_count": 5,
   "metadata": {},
   "outputs": [
    {
     "data": {
      "text/html": [
       "<div>\n",
       "<style scoped>\n",
       "    .dataframe tbody tr th:only-of-type {\n",
       "        vertical-align: middle;\n",
       "    }\n",
       "\n",
       "    .dataframe tbody tr th {\n",
       "        vertical-align: top;\n",
       "    }\n",
       "\n",
       "    .dataframe thead th {\n",
       "        text-align: right;\n",
       "    }\n",
       "</style>\n",
       "<table border=\"1\" class=\"dataframe\">\n",
       "  <thead>\n",
       "    <tr style=\"text-align: right;\">\n",
       "      <th></th>\n",
       "      <th>Confirmed</th>\n",
       "      <th>Deaths</th>\n",
       "      <th>Recovered</th>\n",
       "      <th>Active</th>\n",
       "    </tr>\n",
       "  </thead>\n",
       "  <tbody>\n",
       "    <tr>\n",
       "      <th>3060</th>\n",
       "      <td>6563</td>\n",
       "      <td>319</td>\n",
       "      <td>1862</td>\n",
       "      <td>4382</td>\n",
       "    </tr>\n",
       "  </tbody>\n",
       "</table>\n",
       "</div>"
      ],
      "text/plain": [
       "      Confirmed  Deaths  Recovered  Active\n",
       "3060       6563     319       1862    4382"
      ]
     },
     "execution_count": 5,
     "metadata": {},
     "output_type": "execute_result"
    }
   ],
   "source": [
    "data.loc[data.Country_Region == \"Argentina\", [\"Confirmed\", \"Deaths\", \"Recovered\", \"Active\"]]"
   ]
  },
  {
   "cell_type": "code",
   "execution_count": 8,
   "metadata": {},
   "outputs": [
    {
     "data": {
      "text/plain": [
       "1369574"
      ]
     },
     "execution_count": 8,
     "metadata": {},
     "output_type": "execute_result"
    }
   ],
   "source": []
  },
  {
   "cell_type": "code",
   "execution_count": 13,
   "metadata": {},
   "outputs": [
    {
     "data": {
      "text/plain": [
       "count    32.000000\n",
       "mean     14.756380\n",
       "std       5.118221\n",
       "min       7.398307\n",
       "25%       9.915704\n",
       "50%      14.037641\n",
       "75%      18.025265\n",
       "max      27.346867\n",
       "Name: Hospitalization_Rate, dtype: float64"
      ]
     },
     "execution_count": 13,
     "metadata": {},
     "output_type": "execute_result"
    }
   ],
   "source": [
    "data.Hospitalization_Rate.describe()"
   ]
  },
  {
   "cell_type": "code",
   "execution_count": 15,
   "metadata": {},
   "outputs": [
    {
     "data": {
      "text/plain": [
       "0      1287.0\n",
       "1         NaN\n",
       "2         NaN\n",
       "3      1564.0\n",
       "4       485.0\n",
       "5         NaN\n",
       "6      3663.0\n",
       "7      9389.0\n",
       "8         NaN\n",
       "9         NaN\n",
       "10        NaN\n",
       "11     7654.0\n",
       "12     6130.0\n",
       "13        NaN\n",
       "14        NaN\n",
       "15       81.0\n",
       "16      210.0\n",
       "17        NaN\n",
       "18        NaN\n",
       "19        NaN\n",
       "20      660.0\n",
       "21     1767.0\n",
       "22        NaN\n",
       "23      202.0\n",
       "24     6287.0\n",
       "25     7842.0\n",
       "26        NaN\n",
       "27     1799.0\n",
       "28     1582.0\n",
       "29        NaN\n",
       "30       63.0\n",
       "31        NaN\n",
       "32        NaN\n",
       "33      318.0\n",
       "34        NaN\n",
       "35      886.0\n",
       "36    73143.0\n",
       "37        NaN\n",
       "38      122.0\n",
       "39        NaN\n",
       "40     4539.0\n",
       "41      828.0\n",
       "42      673.0\n",
       "43        NaN\n",
       "44        NaN\n",
       "45     1307.0\n",
       "46     1338.0\n",
       "47      271.0\n",
       "48     1363.0\n",
       "49        NaN\n",
       "50      535.0\n",
       "51        NaN\n",
       "52        NaN\n",
       "53     4929.0\n",
       "54        NaN\n",
       "55        NaN\n",
       "56     1877.0\n",
       "57       67.0\n",
       "Name: People_Hospitalized, dtype: float64"
      ]
     },
     "execution_count": 15,
     "metadata": {},
     "output_type": "execute_result"
    }
   ],
   "source": [
    "data.People_Hospitalized"
   ]
  },
  {
   "cell_type": "code",
   "execution_count": null,
   "metadata": {},
   "outputs": [],
   "source": []
  }
 ],
 "metadata": {
  "kernelspec": {
   "display_name": "Python 3",
   "language": "python",
   "name": "python3"
  },
  "language_info": {
   "codemirror_mode": {
    "name": "ipython",
    "version": 3
   },
   "file_extension": ".py",
   "mimetype": "text/x-python",
   "name": "python",
   "nbconvert_exporter": "python",
   "pygments_lexer": "ipython3",
   "version": "3.7.7"
  }
 },
 "nbformat": 4,
 "nbformat_minor": 4
}
