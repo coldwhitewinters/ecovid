{
 "cells": [
  {
   "cell_type": "code",
   "execution_count": 52,
   "metadata": {},
   "outputs": [
    {
     "name": "stdout",
     "output_type": "stream",
     "text": [
      "The autoreload extension is already loaded. To reload it, use:\n",
      "  %reload_ext autoreload\n"
     ]
    }
   ],
   "source": [
    "%load_ext autoreload\n",
    "%autoreload 2"
   ]
  },
  {
   "cell_type": "code",
   "execution_count": 53,
   "metadata": {},
   "outputs": [],
   "source": [
    "import sys\n",
    "sys.path.append(\"../scripts\")"
   ]
  },
  {
   "cell_type": "code",
   "execution_count": 31,
   "metadata": {},
   "outputs": [
    {
     "name": "stdout",
     "output_type": "stream",
     "text": [
      "Overwriting ../scripts/SIRD.py\n"
     ]
    }
   ],
   "source": [
    "%%writefile \"../scripts/SIRD.py\"\n",
    "\n",
    "import numpy as np\n",
    "import pandas as pd\n",
    "import matplotlib.pyplot as plt\n",
    "from scipy.integrate import odeint\n",
    "from scipy.optimize import minimize\n",
    "\n",
    "class SIRD:\n",
    "    def __init__(self, population=44e6, recovery_rate=0.033, mortality_rate=0.036, beta=0.5):\n",
    "        self.population = population\n",
    "        self.beta = beta\n",
    "        self.recovery_rate = recovery_rate\n",
    "        self.mortality_rate = mortality_rate\n",
    "    \n",
    "    def _deqn(self, y, t, N, beta, gamma, mu):\n",
    "        I, R, D = y\n",
    "        S = N - I - R - D\n",
    "        dS = -beta * S * I / N\n",
    "        dI = beta * S * I / N - (gamma + mu) * I\n",
    "        dR = gamma * I\n",
    "        dD = mu * I\n",
    "        return dI, dR, dD\n",
    "\n",
    "    def simulate(self, y0, until, step=1):\n",
    "        t0 = np.arange(0, until, step)\n",
    "        parameters = (self.population,\n",
    "                      self.beta,\n",
    "                      self.recovery_rate,\n",
    "                      self.mortality_rate,\n",
    "                     )\n",
    "        result = odeint(self._deqn, y0, t0, args=parameters)\n",
    "        result_df = pd.DataFrame(result, columns=[\"I\", \"R\", \"D\"])\n",
    "        return result_df\n",
    "    \n",
    "    def _opt_target(self, theta, obs, weights, estimate):\n",
    "        for k, param in enumerate(estimate):\n",
    "            if param in vars(self):\n",
    "                vars(self)[param] = theta[k]\n",
    "        y0 = obs.head(1).to_numpy().flatten()\n",
    "        y = self.simulate(y0=y0, until=len(obs))\n",
    "        wsqd = weights * (y - obs)**2\n",
    "        cost = wsqd.sum().sum()\n",
    "        return cost\n",
    "    \n",
    "    def fit(self, obs, estimate, weights=None, method=\"nelder-mead\"):\n",
    "        obs = obs.reset_index()[[\"I\", \"R\", \"D\"]]\n",
    "        theta_0 = np.zeros(len(estimate))\n",
    "        for k, param in enumerate(estimate):\n",
    "            if param not in vars(self):\n",
    "                raise Exception(\"Parameter not in model\")\n",
    "            theta_0[k] = vars(self)[param]\n",
    "        if weights is None:\n",
    "            weights = 1/obs.size * np.ones(obs.shape)\n",
    "        args = (obs, weights, estimate)\n",
    "        result = minimize(self._opt_target, theta_0, args=args, method=method)\n",
    "        return result"
   ]
  },
  {
   "cell_type": "code",
   "execution_count": 27,
   "metadata": {},
   "outputs": [],
   "source": [
    "import numpy as np\n",
    "import pandas as pd\n",
    "import matplotlib.pyplot as plt\n",
    "from scipy.optimize import minimize"
   ]
  },
  {
   "cell_type": "code",
   "execution_count": null,
   "metadata": {},
   "outputs": [],
   "source": [
    "\n"
   ]
  }
 ],
 "metadata": {
  "kernelspec": {
   "display_name": "Python 3",
   "language": "python",
   "name": "python3"
  },
  "language_info": {
   "codemirror_mode": {
    "name": "ipython",
    "version": 3
   },
   "file_extension": ".py",
   "mimetype": "text/x-python",
   "name": "python",
   "nbconvert_exporter": "python",
   "pygments_lexer": "ipython3",
   "version": "3.7.7"
  }
 },
 "nbformat": 4,
 "nbformat_minor": 4
}
