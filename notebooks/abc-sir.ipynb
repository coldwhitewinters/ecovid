{
 "cells": [
  {
   "cell_type": "code",
   "execution_count": 23,
   "metadata": {},
   "outputs": [],
   "source": [
    "import numpy as np\n",
    "import pandas as pd\n",
    "import matplotlib.pyplot as plt\n",
    "from scipy.integrate import odeint, solve_ivp\n",
    "from scipy.optimize import minimize\n",
    "from functools import partial\n",
    "import pyabc\n",
    "from pyabc.visualization import plot_kde_2d, plot_data_callback\n",
    "import os\n",
    "import tempfile\n",
    "import scipy.stats as st"
   ]
  },
  {
   "cell_type": "code",
   "execution_count": 24,
   "metadata": {},
   "outputs": [],
   "source": [
    "db_path = (\"sqlite:///\" +\n",
    "           os.path.join(tempfile.gettempdir(), \"test.db\"))"
   ]
  },
  {
   "cell_type": "code",
   "execution_count": 25,
   "metadata": {},
   "outputs": [],
   "source": [
    "plt.rcParams[\"figure.figsize\"] = (14,6)"
   ]
  },
  {
   "cell_type": "code",
   "execution_count": 26,
   "metadata": {},
   "outputs": [
    {
     "data": {
      "text/html": [
       "<div>\n",
       "<style scoped>\n",
       "    .dataframe tbody tr th:only-of-type {\n",
       "        vertical-align: middle;\n",
       "    }\n",
       "\n",
       "    .dataframe tbody tr th {\n",
       "        vertical-align: top;\n",
       "    }\n",
       "\n",
       "    .dataframe thead tr th {\n",
       "        text-align: left;\n",
       "    }\n",
       "\n",
       "    .dataframe thead tr:last-of-type th {\n",
       "        text-align: right;\n",
       "    }\n",
       "</style>\n",
       "<table border=\"1\" class=\"dataframe\">\n",
       "  <thead>\n",
       "    <tr>\n",
       "      <th>Province</th>\n",
       "      <th colspan=\"4\" halign=\"left\">Anhui</th>\n",
       "      <th colspan=\"4\" halign=\"left\">Beijing</th>\n",
       "      <th colspan=\"2\" halign=\"left\">Chongqing</th>\n",
       "      <th>...</th>\n",
       "      <th colspan=\"2\" halign=\"left\">Xinjiang</th>\n",
       "      <th colspan=\"4\" halign=\"left\">Yunnan</th>\n",
       "      <th colspan=\"4\" halign=\"left\">Zhejiang</th>\n",
       "    </tr>\n",
       "    <tr>\n",
       "      <th></th>\n",
       "      <th>C</th>\n",
       "      <th>D</th>\n",
       "      <th>I</th>\n",
       "      <th>R</th>\n",
       "      <th>C</th>\n",
       "      <th>D</th>\n",
       "      <th>I</th>\n",
       "      <th>R</th>\n",
       "      <th>C</th>\n",
       "      <th>D</th>\n",
       "      <th>...</th>\n",
       "      <th>I</th>\n",
       "      <th>R</th>\n",
       "      <th>C</th>\n",
       "      <th>D</th>\n",
       "      <th>I</th>\n",
       "      <th>R</th>\n",
       "      <th>C</th>\n",
       "      <th>D</th>\n",
       "      <th>I</th>\n",
       "      <th>R</th>\n",
       "    </tr>\n",
       "    <tr>\n",
       "      <th>date</th>\n",
       "      <th></th>\n",
       "      <th></th>\n",
       "      <th></th>\n",
       "      <th></th>\n",
       "      <th></th>\n",
       "      <th></th>\n",
       "      <th></th>\n",
       "      <th></th>\n",
       "      <th></th>\n",
       "      <th></th>\n",
       "      <th></th>\n",
       "      <th></th>\n",
       "      <th></th>\n",
       "      <th></th>\n",
       "      <th></th>\n",
       "      <th></th>\n",
       "      <th></th>\n",
       "      <th></th>\n",
       "      <th></th>\n",
       "      <th></th>\n",
       "      <th></th>\n",
       "    </tr>\n",
       "  </thead>\n",
       "  <tbody>\n",
       "    <tr>\n",
       "      <th>2020-01-28</th>\n",
       "      <td>42</td>\n",
       "      <td>0</td>\n",
       "      <td>42</td>\n",
       "      <td>0</td>\n",
       "      <td>50</td>\n",
       "      <td>0</td>\n",
       "      <td>48</td>\n",
       "      <td>1</td>\n",
       "      <td>59</td>\n",
       "      <td>0</td>\n",
       "      <td>...</td>\n",
       "      <td>3</td>\n",
       "      <td>0</td>\n",
       "      <td>15</td>\n",
       "      <td>0</td>\n",
       "      <td>15</td>\n",
       "      <td>0</td>\n",
       "      <td>78</td>\n",
       "      <td>0</td>\n",
       "      <td>77</td>\n",
       "      <td>1</td>\n",
       "    </tr>\n",
       "    <tr>\n",
       "      <th>2020-01-29</th>\n",
       "      <td>64</td>\n",
       "      <td>0</td>\n",
       "      <td>64</td>\n",
       "      <td>0</td>\n",
       "      <td>64</td>\n",
       "      <td>0</td>\n",
       "      <td>61</td>\n",
       "      <td>2</td>\n",
       "      <td>79</td>\n",
       "      <td>0</td>\n",
       "      <td>...</td>\n",
       "      <td>5</td>\n",
       "      <td>0</td>\n",
       "      <td>22</td>\n",
       "      <td>0</td>\n",
       "      <td>22</td>\n",
       "      <td>0</td>\n",
       "      <td>119</td>\n",
       "      <td>0</td>\n",
       "      <td>117</td>\n",
       "      <td>1</td>\n",
       "    </tr>\n",
       "    <tr>\n",
       "      <th>2020-01-30</th>\n",
       "      <td>91</td>\n",
       "      <td>0</td>\n",
       "      <td>91</td>\n",
       "      <td>0</td>\n",
       "      <td>77</td>\n",
       "      <td>0</td>\n",
       "      <td>74</td>\n",
       "      <td>2</td>\n",
       "      <td>104</td>\n",
       "      <td>0</td>\n",
       "      <td>...</td>\n",
       "      <td>7</td>\n",
       "      <td>0</td>\n",
       "      <td>32</td>\n",
       "      <td>0</td>\n",
       "      <td>32</td>\n",
       "      <td>0</td>\n",
       "      <td>176</td>\n",
       "      <td>0</td>\n",
       "      <td>174</td>\n",
       "      <td>2</td>\n",
       "    </tr>\n",
       "    <tr>\n",
       "      <th>2020-01-31</th>\n",
       "      <td>123</td>\n",
       "      <td>0</td>\n",
       "      <td>122</td>\n",
       "      <td>1</td>\n",
       "      <td>92</td>\n",
       "      <td>0</td>\n",
       "      <td>88</td>\n",
       "      <td>3</td>\n",
       "      <td>130</td>\n",
       "      <td>0</td>\n",
       "      <td>...</td>\n",
       "      <td>9</td>\n",
       "      <td>0</td>\n",
       "      <td>43</td>\n",
       "      <td>0</td>\n",
       "      <td>43</td>\n",
       "      <td>0</td>\n",
       "      <td>247</td>\n",
       "      <td>0</td>\n",
       "      <td>243</td>\n",
       "      <td>3</td>\n",
       "    </tr>\n",
       "    <tr>\n",
       "      <th>2020-02-01</th>\n",
       "      <td>160</td>\n",
       "      <td>0</td>\n",
       "      <td>158</td>\n",
       "      <td>1</td>\n",
       "      <td>110</td>\n",
       "      <td>0</td>\n",
       "      <td>105</td>\n",
       "      <td>4</td>\n",
       "      <td>157</td>\n",
       "      <td>0</td>\n",
       "      <td>...</td>\n",
       "      <td>11</td>\n",
       "      <td>0</td>\n",
       "      <td>55</td>\n",
       "      <td>0</td>\n",
       "      <td>54</td>\n",
       "      <td>0</td>\n",
       "      <td>323</td>\n",
       "      <td>0</td>\n",
       "      <td>317</td>\n",
       "      <td>6</td>\n",
       "    </tr>\n",
       "    <tr>\n",
       "      <th>...</th>\n",
       "      <td>...</td>\n",
       "      <td>...</td>\n",
       "      <td>...</td>\n",
       "      <td>...</td>\n",
       "      <td>...</td>\n",
       "      <td>...</td>\n",
       "      <td>...</td>\n",
       "      <td>...</td>\n",
       "      <td>...</td>\n",
       "      <td>...</td>\n",
       "      <td>...</td>\n",
       "      <td>...</td>\n",
       "      <td>...</td>\n",
       "      <td>...</td>\n",
       "      <td>...</td>\n",
       "      <td>...</td>\n",
       "      <td>...</td>\n",
       "      <td>...</td>\n",
       "      <td>...</td>\n",
       "      <td>...</td>\n",
       "      <td>...</td>\n",
       "    </tr>\n",
       "    <tr>\n",
       "      <th>2020-06-05</th>\n",
       "      <td>991</td>\n",
       "      <td>6</td>\n",
       "      <td>0</td>\n",
       "      <td>985</td>\n",
       "      <td>593</td>\n",
       "      <td>9</td>\n",
       "      <td>2</td>\n",
       "      <td>581</td>\n",
       "      <td>579</td>\n",
       "      <td>6</td>\n",
       "      <td>...</td>\n",
       "      <td>0</td>\n",
       "      <td>73</td>\n",
       "      <td>185</td>\n",
       "      <td>2</td>\n",
       "      <td>0</td>\n",
       "      <td>183</td>\n",
       "      <td>1268</td>\n",
       "      <td>1</td>\n",
       "      <td>0</td>\n",
       "      <td>1267</td>\n",
       "    </tr>\n",
       "    <tr>\n",
       "      <th>2020-06-06</th>\n",
       "      <td>991</td>\n",
       "      <td>6</td>\n",
       "      <td>0</td>\n",
       "      <td>985</td>\n",
       "      <td>593</td>\n",
       "      <td>9</td>\n",
       "      <td>2</td>\n",
       "      <td>582</td>\n",
       "      <td>579</td>\n",
       "      <td>6</td>\n",
       "      <td>...</td>\n",
       "      <td>0</td>\n",
       "      <td>73</td>\n",
       "      <td>185</td>\n",
       "      <td>2</td>\n",
       "      <td>0</td>\n",
       "      <td>183</td>\n",
       "      <td>1268</td>\n",
       "      <td>1</td>\n",
       "      <td>0</td>\n",
       "      <td>1267</td>\n",
       "    </tr>\n",
       "    <tr>\n",
       "      <th>2020-06-07</th>\n",
       "      <td>991</td>\n",
       "      <td>6</td>\n",
       "      <td>0</td>\n",
       "      <td>985</td>\n",
       "      <td>593</td>\n",
       "      <td>9</td>\n",
       "      <td>2</td>\n",
       "      <td>582</td>\n",
       "      <td>579</td>\n",
       "      <td>6</td>\n",
       "      <td>...</td>\n",
       "      <td>0</td>\n",
       "      <td>73</td>\n",
       "      <td>185</td>\n",
       "      <td>2</td>\n",
       "      <td>0</td>\n",
       "      <td>183</td>\n",
       "      <td>1268</td>\n",
       "      <td>1</td>\n",
       "      <td>0</td>\n",
       "      <td>1267</td>\n",
       "    </tr>\n",
       "    <tr>\n",
       "      <th>2020-06-08</th>\n",
       "      <td>991</td>\n",
       "      <td>6</td>\n",
       "      <td>0</td>\n",
       "      <td>985</td>\n",
       "      <td>593</td>\n",
       "      <td>9</td>\n",
       "      <td>2</td>\n",
       "      <td>582</td>\n",
       "      <td>579</td>\n",
       "      <td>6</td>\n",
       "      <td>...</td>\n",
       "      <td>0</td>\n",
       "      <td>73</td>\n",
       "      <td>185</td>\n",
       "      <td>2</td>\n",
       "      <td>0</td>\n",
       "      <td>183</td>\n",
       "      <td>1268</td>\n",
       "      <td>1</td>\n",
       "      <td>0</td>\n",
       "      <td>1267</td>\n",
       "    </tr>\n",
       "    <tr>\n",
       "      <th>2020-06-09</th>\n",
       "      <td>991</td>\n",
       "      <td>6</td>\n",
       "      <td>0</td>\n",
       "      <td>985</td>\n",
       "      <td>594</td>\n",
       "      <td>9</td>\n",
       "      <td>1</td>\n",
       "      <td>583</td>\n",
       "      <td>579</td>\n",
       "      <td>6</td>\n",
       "      <td>...</td>\n",
       "      <td>0</td>\n",
       "      <td>73</td>\n",
       "      <td>185</td>\n",
       "      <td>2</td>\n",
       "      <td>0</td>\n",
       "      <td>183</td>\n",
       "      <td>1268</td>\n",
       "      <td>1</td>\n",
       "      <td>0</td>\n",
       "      <td>1267</td>\n",
       "    </tr>\n",
       "  </tbody>\n",
       "</table>\n",
       "<p>134 rows × 132 columns</p>\n",
       "</div>"
      ],
      "text/plain": [
       "Province   Anhui              Beijing              Chongqing     ... Xinjiang  \\\n",
       "               C  D    I    R       C  D    I    R         C  D  ...        I   \n",
       "date                                                             ...            \n",
       "2020-01-28    42  0   42    0      50  0   48    1        59  0  ...        3   \n",
       "2020-01-29    64  0   64    0      64  0   61    2        79  0  ...        5   \n",
       "2020-01-30    91  0   91    0      77  0   74    2       104  0  ...        7   \n",
       "2020-01-31   123  0  122    1      92  0   88    3       130  0  ...        9   \n",
       "2020-02-01   160  0  158    1     110  0  105    4       157  0  ...       11   \n",
       "...          ... ..  ...  ...     ... ..  ...  ...       ... ..  ...      ...   \n",
       "2020-06-05   991  6    0  985     593  9    2  581       579  6  ...        0   \n",
       "2020-06-06   991  6    0  985     593  9    2  582       579  6  ...        0   \n",
       "2020-06-07   991  6    0  985     593  9    2  582       579  6  ...        0   \n",
       "2020-06-08   991  6    0  985     593  9    2  582       579  6  ...        0   \n",
       "2020-06-09   991  6    0  985     594  9    1  583       579  6  ...        0   \n",
       "\n",
       "Province       Yunnan             Zhejiang                \n",
       "             R      C  D   I    R        C  D    I     R  \n",
       "date                                                      \n",
       "2020-01-28   0     15  0  15    0       78  0   77     1  \n",
       "2020-01-29   0     22  0  22    0      119  0  117     1  \n",
       "2020-01-30   0     32  0  32    0      176  0  174     2  \n",
       "2020-01-31   0     43  0  43    0      247  0  243     3  \n",
       "2020-02-01   0     55  0  54    0      323  0  317     6  \n",
       "...         ..    ... ..  ..  ...      ... ..  ...   ...  \n",
       "2020-06-05  73    185  2   0  183     1268  1    0  1267  \n",
       "2020-06-06  73    185  2   0  183     1268  1    0  1267  \n",
       "2020-06-07  73    185  2   0  183     1268  1    0  1267  \n",
       "2020-06-08  73    185  2   0  183     1268  1    0  1267  \n",
       "2020-06-09  73    185  2   0  183     1268  1    0  1267  \n",
       "\n",
       "[134 rows x 132 columns]"
      ]
     },
     "execution_count": 26,
     "metadata": {},
     "output_type": "execute_result"
    }
   ],
   "source": [
    "data = pd.read_hdf(\"../data/ts-covid-provinces.hdf\", key=\"China\")\n",
    "data = data[\"Hunan\"]\n",
    "data = data.drop(columns=\"C\")\n",
    "data"
   ]
  },
  {
   "cell_type": "code",
   "execution_count": 28,
   "metadata": {},
   "outputs": [],
   "source": []
  },
  {
   "cell_type": "code",
   "execution_count": 29,
   "metadata": {},
   "outputs": [
    {
     "data": {
      "image/png": "[encoded data removed]",
      "text/plain": [
       "<Figure size 1008x432 with 1 Axes>"
      ]
     },
     "metadata": {
      "needs_background": "light"
     },
     "output_type": "display_data"
    }
   ],
   "source": [
    "data.plot();"
   ]
  },
  {
   "cell_type": "code",
   "execution_count": 30,
   "metadata": {},
   "outputs": [],
   "source": [
    "data[\"R\"] = data[\"R\"] + data[\"D\"]\n",
    "data = data.drop(columns=[\"D\"])"
   ]
  },
  {
   "cell_type": "code",
   "execution_count": 31,
   "metadata": {},
   "outputs": [],
   "source": [
    "train = data[:\"2020-04-01\"].copy()\n",
    "test = data[\"2020-04-02\":].copy()"
   ]
  },
  {
   "cell_type": "code",
   "execution_count": 32,
   "metadata": {},
   "outputs": [
    {
     "data": {
      "image/png": "[encoded data removed]",
      "text/plain": [
       "<Figure size 1008x432 with 1 Axes>"
      ]
     },
     "metadata": {
      "needs_background": "light"
     },
     "output_type": "display_data"
    }
   ],
   "source": [
    "train.plot();"
   ]
  },
  {
   "cell_type": "code",
   "execution_count": 33,
   "metadata": {},
   "outputs": [
    {
     "data": {
      "image/png": "[encoded data removed]",
      "text/plain": [
       "<Figure size 1008x432 with 1 Axes>"
      ]
     },
     "metadata": {
      "needs_background": "light"
     },
     "output_type": "display_data"
    }
   ],
   "source": [
    "test.plot();"
   ]
  },
  {
   "cell_type": "code",
   "execution_count": 34,
   "metadata": {},
   "outputs": [],
   "source": [
    "def SIR(t, y, p):\n",
    "    I, R = y\n",
    "    S = p[\"pop\"] - I - R\n",
    "    #dS = -p[\"beta\"] * S * I / p[\"pop\"]\n",
    "    dI = p[\"beta\"] * S * I / p[\"pop\"] - p[\"gamma\"] * I\n",
    "    dR = p[\"gamma\"] * I\n",
    "    return dI, dR "
   ]
  },
  {
   "cell_type": "code",
   "execution_count": 35,
   "metadata": {},
   "outputs": [],
   "source": [
    "def build_model(deqn, y0, t):\n",
    "    def model(p):\n",
    "        output = solve_ivp(deqn, t_span=(0,t), y0=y0, args=(p,), t_eval=np.arange(0,t,1))\n",
    "        simulation = pd.DataFrame(data=output.y.T, index=output.t, columns=[\"I\", \"R\"])\n",
    "        return simulation\n",
    "    return model"
   ]
  },
  {
   "cell_type": "code",
   "execution_count": 36,
   "metadata": {},
   "outputs": [],
   "source": [
    "def distance(simulation, obs):\n",
    "    sqd = (obs[\"I\"] - simulation[\"I\"])**2 + (obs[\"R\"] - simulation[\"R\"])**2\n",
    "    return np.sqrt(sqd.sum())"
   ]
  },
  {
   "cell_type": "code",
   "execution_count": 37,
   "metadata": {},
   "outputs": [
    {
     "data": {
      "text/plain": [
       "array([56,  0], dtype=int64)"
      ]
     },
     "execution_count": 37,
     "metadata": {},
     "output_type": "execute_result"
    }
   ],
   "source": [
    "y0 = train.head(1).to_numpy().flatten()\n",
    "y0"
   ]
  },
  {
   "cell_type": "code",
   "execution_count": 38,
   "metadata": {},
   "outputs": [],
   "source": [
    "model = build_model(SIR, y0, len(train))"
   ]
  },
  {
   "cell_type": "code",
   "execution_count": 39,
   "metadata": {},
   "outputs": [
    {
     "data": {
      "text/plain": [
       "<matplotlib.axes._subplots.AxesSubplot at 0x18903278788>"
      ]
     },
     "execution_count": 39,
     "metadata": {},
     "output_type": "execute_result"
    },
    {
     "data": {
      "image/png": "[encoded data removed]",
      "text/plain": [
       "<Figure size 1008x432 with 1 Axes>"
      ]
     },
     "metadata": {
      "needs_background": "light"
     },
     "output_type": "display_data"
    }
   ],
   "source": [
    "params = {\"pop\": 1.1e3, \"beta\":0.45, \"gamma\":1/17}\n",
    "simulation = model(params)\n",
    "\n",
    "ax=simulation.plot()\n",
    "train.reset_index(drop=True).plot(ax=ax, style=\".\")"
   ]
  },
  {
   "cell_type": "code",
   "execution_count": 40,
   "metadata": {},
   "outputs": [],
   "source": [
    "prior = pyabc.Distribution(\n",
    "    beta=pyabc.RV(\"uniform\", 0.2, 0.6),\n",
    "    gamma=pyabc.RV(\"uniform\", 0, 0.2),\n",
    "    pop=pyabc.RV(\"uniform\", 5e2, 1.5e3)\n",
    ")"
   ]
  },
  {
   "cell_type": "code",
   "execution_count": 41,
   "metadata": {},
   "outputs": [],
   "source": [
    "abc = pyabc.ABCSMC(\n",
    "    models=model,\n",
    "    parameter_priors=prior,\n",
    "    distance_function=distance,\n",
    "    #population_size=50,\n",
    "    #transitions=pyabc.LocalTransition(k_fraction=.3),\n",
    "    eps=pyabc.MedianEpsilon()\n",
    ")"
   ]
  },
  {
   "cell_type": "code",
   "execution_count": 42,
   "metadata": {},
   "outputs": [
    {
     "name": "stderr",
     "output_type": "stream",
     "text": [
      "INFO:History:Start <ABCSMC(id=1, start_time=2020-08-02 15:42:30.018056, end_time=None)>\n"
     ]
    },
    {
     "data": {
      "text/plain": [
       "<pyabc.storage.history.History at 0x189035b3c48>"
      ]
     },
     "execution_count": 42,
     "metadata": {},
     "output_type": "execute_result"
    }
   ],
   "source": [
    "abc.new(db_path, train.to_dict(\"list\"))"
   ]
  },
  {
   "cell_type": "code",
   "execution_count": 43,
   "metadata": {},
   "outputs": [
    {
     "name": "stderr",
     "output_type": "stream",
     "text": [
      "INFO:ABC:Calibration sample before t=0.\n",
      "INFO:Epsilon:initial epsilon is 3371.7931663447202\n",
      "INFO:ABC:t: 0, eps: 3371.7931663447202.\n",
      "INFO:ABC:Acceptance rate: 100 / 183 = 5.4645e-01, ESS=1.0000e+02.\n",
      "INFO:ABC:t: 1, eps: 2499.0357146161477.\n",
      "INFO:ABC:Acceptance rate: 100 / 208 = 4.8077e-01, ESS=6.1270e+01.\n",
      "INFO:ABC:t: 2, eps: 1919.1636398844544.\n",
      "INFO:ABC:Acceptance rate: 100 / 291 = 3.4364e-01, ESS=9.4307e+01.\n",
      "INFO:ABC:t: 3, eps: 1581.3174842660515.\n",
      "INFO:ABC:Acceptance rate: 100 / 214 = 4.6729e-01, ESS=8.5661e+01.\n",
      "INFO:ABC:t: 4, eps: 1341.981570274521.\n",
      "INFO:ABC:Acceptance rate: 100 / 217 = 4.6083e-01, ESS=9.2150e+01.\n",
      "INFO:ABC:t: 5, eps: 1158.9229311229312.\n",
      "INFO:ABC:Acceptance rate: 100 / 204 = 4.9020e-01, ESS=9.3196e+01.\n",
      "INFO:ABC:t: 6, eps: 1007.6711502875112.\n",
      "INFO:ABC:Acceptance rate: 100 / 228 = 4.3860e-01, ESS=9.0126e+01.\n",
      "INFO:ABC:t: 7, eps: 913.0934107179917.\n",
      "INFO:ABC:Acceptance rate: 100 / 209 = 4.7847e-01, ESS=8.3119e+01.\n",
      "INFO:ABC:t: 8, eps: 853.0336752521579.\n",
      "INFO:ABC:Acceptance rate: 100 / 233 = 4.2918e-01, ESS=8.0951e+01.\n",
      "INFO:ABC:t: 9, eps: 815.7347063370831.\n",
      "INFO:ABC:Acceptance rate: 100 / 219 = 4.5662e-01, ESS=9.1057e+01.\n",
      "INFO:ABC:t: 10, eps: 782.7809258208044.\n",
      "INFO:ABC:Acceptance rate: 100 / 235 = 4.2553e-01, ESS=8.5658e+01.\n",
      "INFO:ABC:t: 11, eps: 769.7926623006356.\n",
      "INFO:ABC:Acceptance rate: 100 / 246 = 4.0650e-01, ESS=8.9823e+01.\n",
      "INFO:ABC:t: 12, eps: 757.9390072108939.\n",
      "INFO:ABC:Acceptance rate: 100 / 278 = 3.5971e-01, ESS=9.2677e+01.\n",
      "INFO:ABC:t: 13, eps: 751.7856018701499.\n",
      "INFO:ABC:Acceptance rate: 100 / 218 = 4.5872e-01, ESS=8.9226e+01.\n",
      "INFO:ABC:t: 14, eps: 747.1149113377899.\n",
      "INFO:ABC:Acceptance rate: 100 / 221 = 4.5249e-01, ESS=8.9805e+01.\n",
      "INFO:ABC:t: 15, eps: 744.2182897612115.\n",
      "INFO:ABC:Acceptance rate: 100 / 212 = 4.7170e-01, ESS=8.9478e+01.\n",
      "INFO:ABC:t: 16, eps: 742.3199004370881.\n",
      "INFO:ABC:Acceptance rate: 100 / 213 = 4.6948e-01, ESS=9.5471e+01.\n",
      "INFO:ABC:t: 17, eps: 741.2476637713771.\n",
      "INFO:ABC:Acceptance rate: 100 / 228 = 4.3860e-01, ESS=9.4749e+01.\n",
      "INFO:ABC:t: 18, eps: 740.764040933582.\n",
      "INFO:ABC:Acceptance rate: 100 / 214 = 4.6729e-01, ESS=9.4404e+01.\n",
      "INFO:ABC:t: 19, eps: 740.532517600996.\n",
      "INFO:ABC:Acceptance rate: 100 / 161 = 6.2112e-01, ESS=9.2320e+01.\n",
      "INFO:ABC:t: 20, eps: 740.2863999591652.\n",
      "INFO:ABC:Acceptance rate: 100 / 272 = 3.6765e-01, ESS=8.6899e+01.\n",
      "INFO:ABC:t: 21, eps: 740.1509314956904.\n",
      "INFO:ABC:Acceptance rate: 100 / 219 = 4.5662e-01, ESS=8.7115e+01.\n",
      "INFO:ABC:t: 22, eps: 740.0707495880173.\n",
      "INFO:ABC:Acceptance rate: 100 / 254 = 3.9370e-01, ESS=6.5682e+01.\n",
      "INFO:ABC:t: 23, eps: 740.0098404568242.\n",
      "INFO:ABC:Acceptance rate: 100 / 442 = 2.2624e-01, ESS=1.9883e+01.\n",
      "INFO:ABC:t: 24, eps: 739.961198583645.\n",
      "INFO:ABC:Acceptance rate: 100 / 798 = 1.2531e-01, ESS=2.8877e+00.\n",
      "INFO:ABC:t: 25, eps: 739.9586308448366.\n",
      "INFO:ABC:Acceptance rate: 100 / 1112 = 8.9928e-02, ESS=7.7046e+01.\n",
      "INFO:ABC:t: 26, eps: 739.9444510954871.\n",
      "INFO:ABC:Acceptance rate: 100 / 381 = 2.6247e-01, ESS=3.4550e+01.\n",
      "INFO:ABC:t: 27, eps: 739.9290144394183.\n",
      "INFO:ABC:Acceptance rate: 100 / 1394 = 7.1736e-02, ESS=2.4366e+01.\n",
      "INFO:ABC:t: 28, eps: 739.9205837982743.\n",
      "INFO:ABC:Acceptance rate: 100 / 3719 = 2.6889e-02, ESS=4.8879e+01.\n",
      "INFO:ABC:t: 29, eps: 739.8943033630612.\n",
      "INFO:ABC:Acceptance rate: 100 / 224 = 4.4643e-01, ESS=8.7827e+01.\n",
      "INFO:ABC:t: 30, eps: 739.8779408617023.\n",
      "INFO:ABC:Acceptance rate: 100 / 230 = 4.3478e-01, ESS=7.5918e+01.\n",
      "INFO:ABC:t: 31, eps: 739.8646020095945.\n",
      "INFO:ABC:Acceptance rate: 100 / 234 = 4.2735e-01, ESS=8.5435e+01.\n",
      "INFO:ABC:t: 32, eps: 739.8572491622158.\n",
      "INFO:ABC:Acceptance rate: 100 / 213 = 4.6948e-01, ESS=8.9284e+01.\n",
      "INFO:ABC:t: 33, eps: 739.8525251467657.\n",
      "INFO:ABC:Acceptance rate: 100 / 206 = 4.8544e-01, ESS=9.2981e+01.\n",
      "INFO:ABC:t: 34, eps: 739.8487132700257.\n",
      "INFO:ABC:Acceptance rate: 100 / 226 = 4.4248e-01, ESS=7.6617e+01.\n",
      "INFO:ABC:t: 35, eps: 739.8460927032197.\n",
      "INFO:ABC:Acceptance rate: 100 / 211 = 4.7393e-01, ESS=9.5848e+01.\n",
      "INFO:ABC:t: 36, eps: 739.8432939239302.\n",
      "INFO:ABC:Acceptance rate: 100 / 240 = 4.1667e-01, ESS=9.4270e+01.\n",
      "INFO:ABC:t: 37, eps: 739.8416237945216.\n",
      "INFO:ABC:Acceptance rate: 100 / 207 = 4.8309e-01, ESS=8.5084e+01.\n",
      "INFO:ABC:t: 38, eps: 739.8402147732838.\n",
      "INFO:ABC:Acceptance rate: 100 / 229 = 4.3668e-01, ESS=8.4195e+01.\n",
      "INFO:ABC:t: 39, eps: 739.8388454769768.\n",
      "INFO:ABC:Acceptance rate: 100 / 219 = 4.5662e-01, ESS=9.3139e+01.\n",
      "INFO:ABC:t: 40, eps: 739.8377752524882.\n",
      "INFO:ABC:Acceptance rate: 100 / 242 = 4.1322e-01, ESS=9.3083e+01.\n",
      "INFO:ABC:t: 41, eps: 739.8371722510124.\n",
      "INFO:ABC:Acceptance rate: 100 / 248 = 4.0323e-01, ESS=8.3678e+01.\n",
      "INFO:ABC:t: 42, eps: 739.8367923495066.\n",
      "INFO:ABC:Acceptance rate: 100 / 224 = 4.4643e-01, ESS=8.5656e+01.\n",
      "INFO:ABC:t: 43, eps: 739.8365040728618.\n",
      "INFO:ABC:Acceptance rate: 100 / 212 = 4.7170e-01, ESS=9.0858e+01.\n",
      "INFO:ABC:t: 44, eps: 739.8361968660141.\n",
      "INFO:ABC:Acceptance rate: 100 / 211 = 4.7393e-01, ESS=9.4103e+01.\n",
      "INFO:ABC:t: 45, eps: 739.8359864869409.\n",
      "INFO:ABC:Acceptance rate: 100 / 192 = 5.2083e-01, ESS=9.4270e+01.\n",
      "INFO:ABC:t: 46, eps: 739.8357667981368.\n",
      "INFO:ABC:Acceptance rate: 100 / 254 = 3.9370e-01, ESS=9.2999e+01.\n",
      "INFO:ABC:t: 47, eps: 739.8356359840316.\n",
      "INFO:ABC:Acceptance rate: 100 / 229 = 4.3668e-01, ESS=9.5742e+01.\n",
      "INFO:ABC:t: 48, eps: 739.8355280797879.\n",
      "INFO:ABC:Acceptance rate: 100 / 218 = 4.5872e-01, ESS=8.6185e+01.\n",
      "INFO:ABC:t: 49, eps: 739.8354481120509.\n",
      "INFO:ABC:Acceptance rate: 100 / 275 = 3.6364e-01, ESS=9.3064e+01.\n",
      "INFO:ABC:t: 50, eps: 739.8353897872682.\n",
      "INFO:ABC:Acceptance rate: 100 / 228 = 4.3860e-01, ESS=9.2703e+01.\n",
      "INFO:ABC:t: 51, eps: 739.8353466997363.\n",
      "INFO:ABC:Acceptance rate: 100 / 225 = 4.4444e-01, ESS=9.2453e+01.\n",
      "INFO:ABC:t: 52, eps: 739.83530614398.\n",
      "INFO:ABC:Acceptance rate: 100 / 208 = 4.8077e-01, ESS=9.3866e+01.\n",
      "INFO:ABC:t: 53, eps: 739.8352775751478.\n",
      "INFO:ABC:Acceptance rate: 100 / 230 = 4.3478e-01, ESS=8.9188e+01.\n",
      "INFO:ABC:t: 54, eps: 739.835263027878.\n",
      "INFO:ABC:Acceptance rate: 100 / 205 = 4.8780e-01, ESS=9.0139e+01.\n",
      "INFO:ABC:t: 55, eps: 739.835248398703.\n",
      "INFO:ABC:Acceptance rate: 100 / 258 = 3.8760e-01, ESS=8.0941e+01.\n",
      "INFO:ABC:t: 56, eps: 739.8352395455752.\n",
      "INFO:ABC:Acceptance rate: 100 / 203 = 4.9261e-01, ESS=8.2984e+01.\n",
      "INFO:ABC:t: 57, eps: 739.8352329307878.\n",
      "INFO:ABC:Acceptance rate: 100 / 250 = 4.0000e-01, ESS=8.1231e+01.\n",
      "INFO:ABC:t: 58, eps: 739.8352262883369.\n",
      "INFO:ABC:Acceptance rate: 100 / 275 = 3.6364e-01, ESS=9.0884e+01.\n",
      "INFO:ABC:t: 59, eps: 739.8352224882905.\n",
      "INFO:ABC:Acceptance rate: 100 / 264 = 3.7879e-01, ESS=8.0639e+01.\n",
      "INFO:ABC:t: 60, eps: 739.8352198510863.\n",
      "INFO:ABC:Acceptance rate: 100 / 186 = 5.3763e-01, ESS=9.1003e+01.\n",
      "INFO:ABC:t: 61, eps: 739.8352168854891.\n",
      "INFO:ABC:Acceptance rate: 100 / 252 = 3.9683e-01, ESS=8.9135e+01.\n",
      "INFO:ABC:t: 62, eps: 739.8352150071014.\n",
      "INFO:ABC:Acceptance rate: 100 / 266 = 3.7594e-01, ESS=8.8997e+01.\n",
      "INFO:ABC:t: 63, eps: 739.8352135380873.\n",
      "INFO:ABC:Acceptance rate: 100 / 285 = 3.5088e-01, ESS=8.3008e+01.\n",
      "INFO:ABC:t: 64, eps: 739.8352124370376.\n",
      "INFO:ABC:Acceptance rate: 100 / 246 = 4.0650e-01, ESS=8.9865e+01.\n",
      "INFO:ABC:t: 65, eps: 739.8352116076142.\n",
      "INFO:ABC:Acceptance rate: 100 / 218 = 4.5872e-01, ESS=8.7953e+01.\n",
      "INFO:ABC:t: 66, eps: 739.8352109741605.\n",
      "INFO:ABC:Acceptance rate: 100 / 258 = 3.8760e-01, ESS=8.7501e+01.\n",
      "INFO:ABC:t: 67, eps: 739.8352104723525.\n",
      "INFO:ABC:Acceptance rate: 100 / 208 = 4.8077e-01, ESS=7.9011e+01.\n",
      "INFO:ABC:t: 68, eps: 739.8352101400532.\n",
      "INFO:ABC:Acceptance rate: 100 / 236 = 4.2373e-01, ESS=9.2835e+01.\n",
      "INFO:ABC:t: 69, eps: 739.8352098534567.\n",
      "INFO:ABC:Acceptance rate: 100 / 223 = 4.4843e-01, ESS=8.9231e+01.\n",
      "INFO:ABC:t: 70, eps: 739.8352095574292.\n",
      "INFO:ABC:Acceptance rate: 100 / 226 = 4.4248e-01, ESS=9.1858e+01.\n",
      "INFO:ABC:t: 71, eps: 739.8352093026017.\n",
      "INFO:ABC:Acceptance rate: 100 / 292 = 3.4247e-01, ESS=9.4842e+01.\n",
      "INFO:ABC:t: 72, eps: 739.8352091490212.\n",
      "INFO:ABC:Acceptance rate: 100 / 233 = 4.2918e-01, ESS=8.7297e+01.\n",
      "INFO:ABC:t: 73, eps: 739.8352090320449.\n",
      "INFO:ABC:Acceptance rate: 100 / 237 = 4.2194e-01, ESS=9.5197e+01.\n",
      "INFO:ABC:t: 74, eps: 739.8352089322074.\n",
      "INFO:ABC:Acceptance rate: 100 / 245 = 4.0816e-01, ESS=8.8329e+01.\n",
      "INFO:ABC:t: 75, eps: 739.8352088719138.\n",
      "INFO:ABC:Acceptance rate: 100 / 229 = 4.3668e-01, ESS=9.2945e+01.\n",
      "INFO:ABC:t: 76, eps: 739.8352088310392.\n",
      "INFO:ABC:Acceptance rate: 100 / 211 = 4.7393e-01, ESS=8.8294e+01.\n"
     ]
    },
    {
     "name": "stderr",
     "output_type": "stream",
     "text": [
      "INFO:ABC:t: 77, eps: 739.8352087987936.\n",
      "INFO:ABC:Acceptance rate: 100 / 199 = 5.0251e-01, ESS=9.4903e+01.\n",
      "INFO:ABC:t: 78, eps: 739.835208772835.\n",
      "INFO:ABC:Acceptance rate: 100 / 216 = 4.6296e-01, ESS=8.9223e+01.\n",
      "INFO:ABC:t: 79, eps: 739.8352087500159.\n",
      "INFO:ABC:Acceptance rate: 100 / 231 = 4.3290e-01, ESS=6.7000e+01.\n",
      "INFO:ABC:t: 80, eps: 739.8352087337042.\n",
      "INFO:ABC:Acceptance rate: 100 / 235 = 4.2553e-01, ESS=8.9703e+01.\n",
      "INFO:ABC:t: 81, eps: 739.8352087222996.\n",
      "INFO:ABC:Acceptance rate: 100 / 203 = 4.9261e-01, ESS=8.1028e+01.\n",
      "INFO:ABC:t: 82, eps: 739.8352087109984.\n",
      "INFO:ABC:Acceptance rate: 100 / 270 = 3.7037e-01, ESS=9.4816e+01.\n",
      "INFO:ABC:t: 83, eps: 739.8352087036582.\n",
      "INFO:ABC:Acceptance rate: 100 / 267 = 3.7453e-01, ESS=9.0727e+01.\n",
      "INFO:ABC:t: 84, eps: 739.8352086972618.\n",
      "INFO:ABC:Acceptance rate: 100 / 244 = 4.0984e-01, ESS=8.9644e+01.\n",
      "INFO:ABC:t: 85, eps: 739.8352086927239.\n",
      "INFO:ABC:Acceptance rate: 100 / 251 = 3.9841e-01, ESS=8.7137e+01.\n",
      "INFO:ABC:t: 86, eps: 739.8352086896198.\n",
      "INFO:ABC:Acceptance rate: 100 / 260 = 3.8462e-01, ESS=8.0903e+01.\n",
      "INFO:ABC:t: 87, eps: 739.8352086870765.\n",
      "INFO:ABC:Acceptance rate: 100 / 280 = 3.5714e-01, ESS=8.7176e+01.\n",
      "INFO:ABC:t: 88, eps: 739.8352086853721.\n",
      "INFO:ABC:Acceptance rate: 100 / 291 = 3.4364e-01, ESS=8.7966e+01.\n",
      "INFO:ABC:t: 89, eps: 739.8352086837581.\n",
      "INFO:ABC:Acceptance rate: 100 / 327 = 3.0581e-01, ESS=8.7409e+01.\n",
      "INFO:ABC:t: 90, eps: 739.8352086826338.\n",
      "INFO:ABC:Acceptance rate: 100 / 378 = 2.6455e-01, ESS=7.9167e+01.\n",
      "INFO:ABC:t: 91, eps: 739.835208681873.\n",
      "INFO:ABC:Acceptance rate: 100 / 322 = 3.1056e-01, ESS=9.1710e+01.\n",
      "INFO:ABC:t: 92, eps: 739.8352086807047.\n",
      "INFO:ABC:Acceptance rate: 100 / 382 = 2.6178e-01, ESS=8.0375e+01.\n",
      "INFO:ABC:t: 93, eps: 739.8352086798843.\n",
      "INFO:ABC:Acceptance rate: 100 / 390 = 2.5641e-01, ESS=8.8482e+01.\n",
      "INFO:ABC:t: 94, eps: 739.8352086790575.\n",
      "INFO:ABC:Acceptance rate: 100 / 432 = 2.3148e-01, ESS=6.9878e+01.\n",
      "INFO:ABC:t: 95, eps: 739.8352086783481.\n",
      "INFO:ABC:Acceptance rate: 100 / 624 = 1.6026e-01, ESS=9.0483e+01.\n",
      "INFO:ABC:t: 96, eps: 739.8352086778367.\n",
      "INFO:ABC:Acceptance rate: 100 / 591 = 1.6920e-01, ESS=8.2630e+01.\n",
      "INFO:ABC:t: 97, eps: 739.8352086773995.\n",
      "INFO:ABC:Acceptance rate: 100 / 582 = 1.7182e-01, ESS=8.3361e+01.\n",
      "INFO:ABC:t: 98, eps: 739.8352086770007.\n",
      "INFO:ABC:Acceptance rate: 100 / 782 = 1.2788e-01, ESS=8.7721e+01.\n",
      "INFO:ABC:t: 99, eps: 739.8352086766293.\n",
      "INFO:ABC:Acceptance rate: 100 / 852 = 1.1737e-01, ESS=8.5195e+01.\n",
      "INFO:ABC:t: 100, eps: 739.835208676426.\n",
      "INFO:ABC:Acceptance rate: 100 / 680 = 1.4706e-01, ESS=5.9103e+01.\n",
      "INFO:ABC:t: 101, eps: 739.8352086761387.\n",
      "INFO:ABC:Acceptance rate: 100 / 1090 = 9.1743e-02, ESS=9.2128e+01.\n",
      "INFO:ABC:t: 102, eps: 739.835208675897.\n",
      "INFO:ABC:Acceptance rate: 100 / 932 = 1.0730e-01, ESS=7.2591e+01.\n",
      "INFO:ABC:t: 103, eps: 739.8352086756933.\n",
      "INFO:ABC:Acceptance rate: 100 / 758 = 1.3193e-01, ESS=8.3625e+01.\n",
      "INFO:ABC:t: 104, eps: 739.8352086754608.\n",
      "INFO:ABC:Acceptance rate: 100 / 1111 = 9.0009e-02, ESS=7.7022e+01.\n",
      "INFO:ABC:t: 105, eps: 739.8352086752469.\n",
      "INFO:ABC:Acceptance rate: 100 / 1068 = 9.3633e-02, ESS=7.4999e+01.\n",
      "INFO:ABC:t: 106, eps: 739.8352086750531.\n",
      "INFO:ABC:Acceptance rate: 100 / 1247 = 8.0192e-02, ESS=8.8671e+01.\n",
      "INFO:ABC:t: 107, eps: 739.8352086748654.\n",
      "INFO:ABC:Acceptance rate: 100 / 1233 = 8.1103e-02, ESS=8.3708e+01.\n",
      "INFO:ABC:t: 108, eps: 739.8352086747204.\n",
      "INFO:ABC:Acceptance rate: 100 / 1516 = 6.5963e-02, ESS=8.3360e+01.\n",
      "INFO:ABC:t: 109, eps: 739.8352086745764.\n",
      "INFO:ABC:Acceptance rate: 100 / 1818 = 5.5006e-02, ESS=6.9830e+01.\n",
      "INFO:ABC:t: 110, eps: 739.8352086744706.\n",
      "INFO:ABC:Acceptance rate: 100 / 1438 = 6.9541e-02, ESS=9.1401e+01.\n",
      "INFO:ABC:t: 111, eps: 739.8352086743593.\n",
      "INFO:ABC:Acceptance rate: 100 / 1355 = 7.3801e-02, ESS=4.9203e+01.\n",
      "INFO:ABC:t: 112, eps: 739.8352086742542.\n",
      "INFO:ABC:Acceptance rate: 100 / 1527 = 6.5488e-02, ESS=8.1985e+01.\n",
      "INFO:ABC:t: 113, eps: 739.8352086741569.\n",
      "INFO:ABC:Acceptance rate: 100 / 1656 = 6.0386e-02, ESS=7.3234e+01.\n",
      "INFO:ABC:t: 114, eps: 739.8352086740665.\n",
      "INFO:ABC:Acceptance rate: 100 / 1675 = 5.9701e-02, ESS=9.2475e+01.\n",
      "INFO:ABC:t: 115, eps: 739.835208673973.\n",
      "INFO:ABC:Acceptance rate: 100 / 1809 = 5.5279e-02, ESS=8.0795e+01.\n",
      "INFO:ABC:t: 116, eps: 739.8352086738529.\n",
      "INFO:ABC:Acceptance rate: 100 / 2182 = 4.5830e-02, ESS=6.9465e+01.\n",
      "INFO:ABC:t: 117, eps: 739.835208673748.\n",
      "INFO:ABC:Acceptance rate: 100 / 2376 = 4.2088e-02, ESS=5.3809e+01.\n",
      "INFO:ABC:t: 118, eps: 739.8352086736808.\n",
      "INFO:ABC:Acceptance rate: 100 / 2503 = 3.9952e-02, ESS=9.1699e+01.\n",
      "INFO:ABC:t: 119, eps: 739.8352086736277.\n",
      "INFO:ABC:Acceptance rate: 100 / 2322 = 4.3066e-02, ESS=7.2846e+01.\n",
      "INFO:ABC:t: 120, eps: 739.8352086735581.\n",
      "INFO:ABC:Acceptance rate: 100 / 2554 = 3.9154e-02, ESS=9.4817e+01.\n",
      "INFO:ABC:t: 121, eps: 739.8352086734994.\n",
      "INFO:ABC:Acceptance rate: 100 / 2666 = 3.7509e-02, ESS=8.6651e+01.\n",
      "INFO:ABC:t: 122, eps: 739.8352086734318.\n",
      "INFO:ABC:Acceptance rate: 100 / 2589 = 3.8625e-02, ESS=8.1923e+01.\n",
      "INFO:ABC:t: 123, eps: 739.8352086733676.\n",
      "INFO:ABC:Acceptance rate: 100 / 2665 = 3.7523e-02, ESS=6.5613e+01.\n",
      "INFO:ABC:t: 124, eps: 739.8352086733217.\n",
      "INFO:ABC:Acceptance rate: 100 / 3266 = 3.0618e-02, ESS=7.7814e+01.\n",
      "INFO:ABC:t: 125, eps: 739.8352086732655.\n",
      "INFO:ABC:Acceptance rate: 100 / 2580 = 3.8760e-02, ESS=4.9255e+01.\n",
      "INFO:ABC:t: 126, eps: 739.8352086732211.\n",
      "INFO:ABC:Acceptance rate: 100 / 2565 = 3.8986e-02, ESS=8.9427e+01.\n",
      "INFO:ABC:t: 127, eps: 739.8352086731509.\n",
      "INFO:ABC:Acceptance rate: 100 / 2778 = 3.5997e-02, ESS=6.7802e+01.\n",
      "INFO:ABC:t: 128, eps: 739.8352086730984.\n",
      "INFO:ABC:Acceptance rate: 100 / 3271 = 3.0572e-02, ESS=8.4704e+01.\n",
      "INFO:ABC:t: 129, eps: 739.835208673053.\n",
      "INFO:ABC:Acceptance rate: 100 / 3354 = 2.9815e-02, ESS=8.6678e+01.\n",
      "INFO:ABC:t: 130, eps: 739.8352086730126.\n",
      "INFO:ABC:Acceptance rate: 100 / 4206 = 2.3776e-02, ESS=9.0418e+01.\n",
      "INFO:ABC:t: 131, eps: 739.8352086729767.\n",
      "INFO:ABC:Acceptance rate: 100 / 3782 = 2.6441e-02, ESS=8.0127e+01.\n",
      "INFO:ABC:t: 132, eps: 739.8352086729454.\n",
      "INFO:ABC:Acceptance rate: 100 / 5127 = 1.9505e-02, ESS=8.7897e+01.\n",
      "INFO:ABC:t: 133, eps: 739.8352086729172.\n",
      "INFO:ABC:Acceptance rate: 100 / 5358 = 1.8664e-02, ESS=8.4460e+01.\n",
      "INFO:ABC:t: 134, eps: 739.8352086728909.\n",
      "INFO:ABC:Acceptance rate: 100 / 5619 = 1.7797e-02, ESS=8.8137e+01.\n",
      "INFO:ABC:t: 135, eps: 739.8352086728675.\n",
      "INFO:ABC:Acceptance rate: 100 / 5689 = 1.7578e-02, ESS=6.1795e+01.\n",
      "INFO:ABC:t: 136, eps: 739.8352086728452.\n",
      "INFO:ABC:Acceptance rate: 100 / 6618 = 1.5110e-02, ESS=7.4303e+01.\n",
      "INFO:ABC:t: 137, eps: 739.8352086728231.\n",
      "INFO:ABC:Acceptance rate: 100 / 4773 = 2.0951e-02, ESS=6.4608e+01.\n",
      "INFO:ABC:t: 138, eps: 739.8352086727989.\n",
      "INFO:ABC:Acceptance rate: 100 / 5760 = 1.7361e-02, ESS=8.6159e+01.\n",
      "INFO:ABC:t: 139, eps: 739.8352086727747.\n",
      "INFO:ABC:Acceptance rate: 100 / 5558 = 1.7992e-02, ESS=7.5232e+01.\n",
      "INFO:ABC:t: 140, eps: 739.8352086727592.\n",
      "INFO:ABC:Acceptance rate: 100 / 6773 = 1.4765e-02, ESS=9.1268e+01.\n",
      "INFO:ABC:t: 141, eps: 739.8352086727377.\n",
      "INFO:ABC:Acceptance rate: 100 / 5650 = 1.7699e-02, ESS=4.4921e+01.\n",
      "INFO:ABC:t: 142, eps: 739.835208672711.\n",
      "INFO:ABC:Acceptance rate: 100 / 7525 = 1.3289e-02, ESS=8.7053e+01.\n",
      "INFO:ABC:t: 143, eps: 739.83520867269.\n",
      "INFO:ABC:Acceptance rate: 100 / 7199 = 1.3891e-02, ESS=7.9904e+01.\n",
      "INFO:ABC:t: 144, eps: 739.8352086726736.\n",
      "INFO:ABC:Acceptance rate: 100 / 6550 = 1.5267e-02, ESS=6.0569e+01.\n",
      "INFO:ABC:t: 145, eps: 739.8352086726544.\n",
      "INFO:ABC:Acceptance rate: 100 / 7657 = 1.3060e-02, ESS=7.0863e+01.\n",
      "INFO:ABC:t: 146, eps: 739.8352086726393.\n",
      "INFO:ABC:Acceptance rate: 100 / 10072 = 9.9285e-03, ESS=8.1579e+01.\n",
      "INFO:ABC:Stopping: minimum acceptance rate.\n",
      "INFO:History:Done <ABCSMC(id=1, start_time=2020-08-02 15:42:30.018056, end_time=2020-08-02 16:05:51.685183)>\n"
     ]
    }
   ],
   "source": [
    "h = abc.run(min_acceptance_rate=0.01)"
   ]
  },
  {
   "cell_type": "code",
   "execution_count": 44,
   "metadata": {},
   "outputs": [
    {
     "data": {
      "text/plain": [
       "{'beta': 0.37375224050777267,\n",
       " 'gamma': 0.06273087758315837,\n",
       " 'pop': 1079.732813201131}"
      ]
     },
     "execution_count": 44,
     "metadata": {},
     "output_type": "execute_result"
    }
   ],
   "source": [
    "params = h.get_distribution()[0].mean().to_dict()\n",
    "params"
   ]
  },
  {
   "cell_type": "code",
   "execution_count": 45,
   "metadata": {},
   "outputs": [
    {
     "data": {
      "text/plain": [
       "<matplotlib.axes._subplots.AxesSubplot at 0x18903812a08>"
      ]
     },
     "execution_count": 45,
     "metadata": {},
     "output_type": "execute_result"
    },
    {
     "data": {
      "image/png": "[encoded data removed]",
      "text/plain": [
       "<Figure size 1008x432 with 1 Axes>"
      ]
     },
     "metadata": {
      "needs_background": "light"
     },
     "output_type": "display_data"
    }
   ],
   "source": [
    "simulation = model(params)\n",
    "\n",
    "ax=simulation.plot()\n",
    "train.reset_index(drop=True).plot(ax=ax, style=\".\")"
   ]
  },
  {
   "cell_type": "code",
   "execution_count": 46,
   "metadata": {},
   "outputs": [],
   "source": [
    "test_model = build_model(SIR, y0, len(train)+len(test))"
   ]
  },
  {
   "cell_type": "code",
   "execution_count": 47,
   "metadata": {},
   "outputs": [],
   "source": [
    "simulation = test_model(params)\n",
    "simulation.index = data.index"
   ]
  },
  {
   "cell_type": "code",
   "execution_count": 48,
   "metadata": {},
   "outputs": [
    {
     "data": {
      "text/plain": [
       "<matplotlib.axes._subplots.AxesSubplot at 0x18903960488>"
      ]
     },
     "execution_count": 48,
     "metadata": {},
     "output_type": "execute_result"
    },
    {
     "data": {
      "image/png": "[encoded data removed]",
      "text/plain": [
       "<Figure size 1008x432 with 1 Axes>"
      ]
     },
     "metadata": {
      "needs_background": "light"
     },
     "output_type": "display_data"
    }
   ],
   "source": [
    "ax = simulation.plot()\n",
    "data.plot(ax=ax, style=\".\")"
   ]
  },
  {
   "cell_type": "code",
   "execution_count": null,
   "metadata": {},
   "outputs": [],
   "source": []
  }
 ],
 "metadata": {
  "kernelspec": {
   "display_name": "Python 3",
   "language": "python",
   "name": "python3"
  },
  "language_info": {
   "codemirror_mode": {
    "name": "ipython",
    "version": 3
   },
   "file_extension": ".py",
   "mimetype": "text/x-python",
   "name": "python",
   "nbconvert_exporter": "python",
   "pygments_lexer": "ipython3",
   "version": "3.7.7"
  }
 },
 "nbformat": 4,
 "nbformat_minor": 4
}
