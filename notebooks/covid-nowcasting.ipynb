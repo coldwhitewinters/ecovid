{
 "cells": [
  {
   "cell_type": "code",
   "execution_count": 1,
   "metadata": {},
   "outputs": [
    {
     "data": {
      "application/vnd.jupyter.widget-view+json": {
       "model_id": "418bd6ab3f914cc1ac297c57e4986f6d",
       "version_major": 2,
       "version_minor": 0
      },
      "text/plain": [
       "interactive(children=(IntSlider(value=150000, description='N', max=250000, step=100), IntSlider(value=1, descr…"
      ]
     },
     "metadata": {},
     "output_type": "display_data"
    },
    {
     "data": {
      "text/plain": [
       "<function __main__.intervencion2(N=15000.0, I=1, R0=2.2, Rt=0.73, tint=50, tinc=5.2, tinf=2.9, T=300)>"
      ]
     },
     "execution_count": 1,
     "metadata": {},
     "output_type": "execute_result"
    }
   ],
   "source": [
    "import numpy as np\n",
    "from ipywidgets import interact\n",
    "import ipywidgets as widgets\n",
    "import matplotlib.pyplot as plt\n",
    "from scipy.integrate import odeint\n",
    "\n",
    "def dyn(y,t, r,tinf,tinc):\n",
    "    y1,y2,y3,y4 = y\n",
    "    return [-r/tinf*y3*y1, r/tinf*y3*y1-y2/tinc,y2/tinc-y3/tinf,y3/tinf] \n",
    "\n",
    "wR0 = widgets.FloatSlider(min=0., max=10., step=.1, value=2.2)\n",
    "wRt = widgets.FloatSlider(min=0., max=10., step=.01, value=0.73)\n",
    "wN  = widgets.IntSlider(min=0., max=250000, step=1e2, value=150000)\n",
    "wI  = widgets.IntSlider(min=0., max=wN.value, step=10, value=1)\n",
    "wtint = widgets.IntSlider(min=0., max=100., step=1, value=50)\n",
    "wtinc = widgets.FloatSlider(min=0., max=20., step=1, value=5.2)\n",
    "wtinf = widgets.FloatSlider(min=0., max=20., step=1, value=2.9)\n",
    "\n",
    "def intervencion2(N=15e3,I=1,R0=2.2,Rt=0.73,tint = 50,tinc = 5.2,tinf = 2.9,T=300):\n",
    "    y0 = [N, 0, I, 0]\n",
    "    r0 = R0/N\n",
    "    t1 = np.linspace(0, tint, 100)\n",
    "    sol = odeint(dyn, y0, t1, args=(r0,tinc,tinf))\n",
    "    t2 = np.linspace(t1[-1], T, 100)\n",
    "    rt = Rt/N\n",
    "    sol2 = odeint(dyn, sol[-1,:], t2, args=(rt,tinc,tinf))\n",
    "    fig, ax = plt.subplots()\n",
    "    ax.plot(t1,sol[:,1]+sol[:,2],color='tab:blue')\n",
    "    ax.plot(t1,sol[:,2],color='tab:green')\n",
    "    ax.plot(t2,sol2[:,1]+sol2[:,2],color='tab:blue',label='Exp.+Inf.')\n",
    "    ax.plot(t2,sol2[:,2],color='tab:green',label='Infectados')\n",
    "    ax.legend()\n",
    "\n",
    "interact(intervencion2, N=wN, I=wI, R0=wR0, Rt=wRt, tint=wtint,tinc=wtinc,tinf=wtinf)"
   ]
  },
  {
   "cell_type": "code",
   "execution_count": null,
   "metadata": {},
   "outputs": [],
   "source": []
  }
 ],
 "metadata": {
  "kernelspec": {
   "display_name": "Python 3",
   "language": "python",
   "name": "python3"
  },
  "language_info": {
   "codemirror_mode": {
    "name": "ipython",
    "version": 3
   },
   "file_extension": ".py",
   "mimetype": "text/x-python",
   "name": "python",
   "nbconvert_exporter": "python",
   "pygments_lexer": "ipython3",
   "version": "3.7.7"
  }
 },
 "nbformat": 4,
 "nbformat_minor": 4
}
