{
 "cells": [
  {
   "cell_type": "code",
   "execution_count": 1,
   "metadata": {},
   "outputs": [],
   "source": [
    "%load_ext autoreload\n",
    "%autoreload 2"
   ]
  },
  {
   "cell_type": "code",
   "execution_count": 2,
   "metadata": {},
   "outputs": [],
   "source": [
    "import sys\n",
    "sys.path.append(\"../scripts\")"
   ]
  },
  {
   "cell_type": "code",
   "execution_count": 3,
   "metadata": {},
   "outputs": [
    {
     "name": "stdout",
     "output_type": "stream",
     "text": [
      "Overwriting ../scripts/epidemic_calc.py\n"
     ]
    }
   ],
   "source": [
    "%%writefile \"../scripts/epidemic_calc.py\"\n",
    "\n",
    "import numpy as np\n",
    "import pandas as pd\n",
    "from scipy.integrate import odeint\n",
    "\n",
    "class EpidemicCalc:\n",
    "    def __init__(self, \n",
    "                 population=7e6, initial_infected=1, initial_exposed=0,\n",
    "                 R0=2.2, Rt=0.73, incubation_time=5.2, infectious_time=2.9, \n",
    "                 recovery_time=28.6, hospital_rate=0.2, mortality_rate=0.02,  \n",
    "                 time_to_hospitalization=5, time_to_death=32, intervention_time=100):\n",
    "        self.population = population\n",
    "        self.R0 = R0\n",
    "        self.Rt = Rt\n",
    "        self.incubation_time = incubation_time\n",
    "        self.infectious_time = infectious_time\n",
    "        self.recovery_time = recovery_time\n",
    "        self.initial_infected = initial_infected\n",
    "        self.initial_exposed = initial_exposed\n",
    "        self.mortality_rate = mortality_rate\n",
    "        self.hospital_rate = hospital_rate\n",
    "        self.time_to_hospitalization = time_to_hospitalization\n",
    "        self.time_to_death = time_to_death\n",
    "        self.intervention_time = intervention_time\n",
    "    \n",
    "    def _deqn(self, y, t, beta, t_inc, t_inf, \n",
    "              t_recovery, t_to_hosp, t_to_death,\n",
    "              r_hosp, r_death):\n",
    "        S, E, I, R, H, Ht, D = y\n",
    "        dS = -beta * S * I\n",
    "        dE = beta * S * I - 1/t_inc * E\n",
    "        dI = 1/t_inc * E - 1/t_inf * I\n",
    "        dR = (1 - r_hosp)/t_inf * I + 1/t_recovery * H\n",
    "        dH = (r_hosp - r_death)/t_inf * I - 1/t_recovery * H\n",
    "        dHt = r_death/t_inf * I - 1/(t_to_death - t_to_hosp) * Ht\n",
    "        dD = 1/(t_to_death - t_to_hosp) * Ht\n",
    "        return dS, dE, dI, dR, dH, dHt, dD\n",
    "\n",
    "    def simulate(self, until, step=1):\n",
    "        y0 = (self.population, self.initial_exposed, self.initial_infected, 0, 0, 0, 0) \n",
    "        t_before = np.arange(0, int(self.intervention_time), step)\n",
    "        parameters = (self.R0/(self.infectious_time * self.population), \n",
    "                      self.incubation_time,\n",
    "                      self.infectious_time,\n",
    "                      self.recovery_time,\n",
    "                      self.time_to_hospitalization,\n",
    "                      self.time_to_death,\n",
    "                      self.hospital_rate,\n",
    "                      self.mortality_rate,\n",
    "                     )\n",
    "        before_intervention = odeint(self._deqn, y0, t_before, args=parameters)\n",
    "        \n",
    "        yt = before_intervention[-1]\n",
    "        t_after = np.arange(int(self.intervention_time-1), until, step)\n",
    "        parameters = (self.Rt/(self.infectious_time * self.population), \n",
    "                      self.incubation_time,\n",
    "                      self.infectious_time,\n",
    "                      self.recovery_time,\n",
    "                      self.time_to_hospitalization,\n",
    "                      self.time_to_death,\n",
    "                      self.hospital_rate,\n",
    "                      self.mortality_rate,\n",
    "                     )\n",
    "        after_intervention = odeint(self._deqn, yt, t_after, args=tuple(parameters))[1:]\n",
    "        \n",
    "        res = np.concatenate((before_intervention, after_intervention))\n",
    "        columns_names = [\"Susceptible\", \"Exposed\", \"Infectious\", \n",
    "                         \"Recovered\", \"Hosp_Moderate\", \"Hosp_Terminal\", \"Dead\"]\n",
    "        result = pd.DataFrame(res, columns=columns_names)\n",
    "        result[\"Hosp_Total\"] = result[\"Hosp_Moderate\"] + result[\"Hosp_Terminal\"]\n",
    "        return result"
   ]
  },
  {
   "cell_type": "code",
   "execution_count": 4,
   "metadata": {},
   "outputs": [
    {
     "data": {
      "image/png": "[encoded data removed]",
      "text/plain": [
       "<Figure size 1008x432 with 1 Axes>"
      ]
     },
     "metadata": {
      "needs_background": "light"
     },
     "output_type": "display_data"
    }
   ],
   "source": [
    "import numpy as np\n",
    "import pandas as pd\n",
    "import matplotlib.pyplot as plt\n",
    "from epidemic_calc import EpidemicCalc\n",
    "\n",
    "plt.rcParams[\"figure.figsize\"] = (14,6)\n",
    "\n",
    "model = EpidemicCalc()\n",
    "res = model.simulate(until=200)\n",
    "res.loc[res.index%3 == 0, [\"Dead\", \"Hosp_Total\", \"Infectious\", \"Exposed\"]].plot(kind=\"bar\", stacked=True);"
   ]
  },
  {
   "cell_type": "code",
   "execution_count": null,
   "metadata": {},
   "outputs": [],
   "source": []
  }
 ],
 "metadata": {
  "kernelspec": {
   "display_name": "Python 3",
   "language": "python",
   "name": "python3"
  },
  "language_info": {
   "codemirror_mode": {
    "name": "ipython",
    "version": 3
   },
   "file_extension": ".py",
   "mimetype": "text/x-python",
   "name": "python",
   "nbconvert_exporter": "python",
   "pygments_lexer": "ipython3",
   "version": "3.7.7"
  }
 },
 "nbformat": 4,
 "nbformat_minor": 4
}
